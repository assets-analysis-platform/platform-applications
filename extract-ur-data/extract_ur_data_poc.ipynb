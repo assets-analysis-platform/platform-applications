{
 "cells": [
  {
   "cell_type": "code",
   "execution_count": 1,
   "outputs": [
    {
     "ename": "ModuleNotFoundError",
     "evalue": "No module named 'pandas'",
     "output_type": "error",
     "traceback": [
      "\u001B[1;31m---------------------------------------------------------------------------\u001B[0m",
      "\u001B[1;31mModuleNotFoundError\u001B[0m                       Traceback (most recent call last)",
      "Cell \u001B[1;32mIn[1], line 8\u001B[0m\n\u001B[0;32m      6\u001B[0m \u001B[38;5;28;01mimport\u001B[39;00m \u001B[38;5;21;01mrequests\u001B[39;00m\n\u001B[0;32m      7\u001B[0m \u001B[38;5;28;01mimport\u001B[39;00m \u001B[38;5;21;01mjson\u001B[39;00m\n\u001B[1;32m----> 8\u001B[0m \u001B[38;5;28;01mimport\u001B[39;00m \u001B[38;5;21;01mpandas\u001B[39;00m \u001B[38;5;28;01mas\u001B[39;00m \u001B[38;5;21;01mpd\u001B[39;00m\n\u001B[0;32m      9\u001B[0m \u001B[38;5;28;01mfrom\u001B[39;00m \u001B[38;5;21;01mglob\u001B[39;00m \u001B[38;5;28;01mimport\u001B[39;00m glob\n\u001B[0;32m     10\u001B[0m \u001B[38;5;28;01mfrom\u001B[39;00m \u001B[38;5;21;01mdotenv\u001B[39;00m \u001B[38;5;28;01mimport\u001B[39;00m load_dotenv\n",
      "\u001B[1;31mModuleNotFoundError\u001B[0m: No module named 'pandas'"
     ]
    }
   ],
   "source": [
    "'''\n",
    "Tools for blockchain data interaction\n",
    "'''\n",
    "\n",
    "import os\n",
    "import requests\n",
    "import json\n",
    "import pandas as pd\n",
    "from glob import glob\n",
    "from dotenv import load_dotenv\n",
    "from web3 import Web3\n",
    "from hexbytes import HexBytes\n",
    "from uniswap_universal_router_decoder import RouterCodec\n",
    "\n",
    "load_dotenv()\n",
    "\n",
    "# .env variables\n",
    "ETHERSCAN_API_KEY=os.getenv(\"ETHERSCAN_API_KEY\")\n",
    "RPC_INFURA_HTTPS_ENDPOINT=os.getenv('RPC_INFURA_HTTPS_ENDPOINT')\n",
    "\n",
    "rpc_provider = Web3.HTTPProvider(RPC_INFURA_HTTPS_ENDPOINT)\n",
    "web3 = Web3(provider=rpc_provider)\n",
    "routerCodec = RouterCodec(w3=web3)\n"
   ],
   "metadata": {
    "collapsed": false,
    "ExecuteTime": {
     "end_time": "2024-02-24T21:02:20.768396700Z",
     "start_time": "2024-02-24T21:02:20.459846Z"
    }
   }
  },
  {
   "cell_type": "code",
   "execution_count": 2,
   "outputs": [],
   "source": [
    "'''\n",
    "Contract address, tracked events, input data\n",
    "'''\n",
    "\n",
    "UNIVERSAL_ROUTER_CONTRACT_ADDRESS=\"0x3fC91A3afd70395Cd496C647d5a6CC9D4B2b7FAD\".lower()\n",
    "\n",
    "UNISWAP_V2_SWAP_EVENT=\"0xd78ad95fa46c994b6551d0da85fc275fe613ce37657fb8d5e3d130840159d822\"\n",
    "UNISWAP_V3_SWAP_EVENT=\"0xc42079f94a6350d7e6235f29174924f928cc2ac818eb64fed8004e115fbcca67\"\n",
    "TRACKED_EVENTS=[UNISWAP_V2_SWAP_EVENT, UNISWAP_V3_SWAP_EVENT]\n",
    "\n",
    "def read_csv_files(paths_array):\n",
    "    \"\"\"\n",
    "    Concatenates all CSV files in the specified path into a single DataFrame.\n",
    "\n",
    "    Parameters:\n",
    "    - paths_array (str): Array of paths containing CSV files.\n",
    "\n",
    "    Returns:\n",
    "    - pd.DataFrame: Concatenated DataFrame.\n",
    "    \"\"\"\n",
    "\n",
    "    li = []\n",
    "\n",
    "    if not paths_array:\n",
    "        raise FileNotFoundError(f\"No CSV files found in the specified paths array '{paths_array}'.\")\n",
    "\n",
    "    for file_path in paths_array:\n",
    "        if not os.path.exists(file_path):\n",
    "            raise FileNotFoundError(f\"The specified path '{file_path}' does not exist.\")\n",
    "\n",
    "        df = pd.read_csv(file_path, index_col=None, header=0)\n",
    "        li.append(df)\n",
    "\n",
    "    return pd.concat(li, axis=0, ignore_index=True)\n",
    "\n",
    "transactions_files_paths=glob('sample_data/data/raw/blockchains/eth/transactions/start_block=*/end_block=*/transactions*.csv')\n",
    "logs_files_paths=glob('sample_data/data/raw/blockchains/eth/logs/start_block=*/end_block=*/logs*.csv')\n",
    "\n",
    "eth_blockchain_transactions_df_columns=['hash', 'from_address', 'to_address', 'value', 'gas', 'gas_price', 'input', 'block_timestamp', 'max_fee_per_gas', 'max_priority_fee_per_gas', 'transaction_type']\n",
    "eth_blockchain_logs_df_columns=['log_index', 'transaction_hash', 'transaction_index', 'block_hash', 'block_number', 'address', 'data', 'topics']\n",
    "\n",
    "eth_blockchain_transactions_df = read_csv_files(transactions_files_paths)[eth_blockchain_transactions_df_columns].rename(columns={'hash' : 'transaction_hash', 'from_address': 'sender_address'})\n",
    "eth_blockchain_logs_df = read_csv_files(logs_files_paths)[eth_blockchain_logs_df_columns].rename(columns={'address' : 'event_src_addr'})"
   ],
   "metadata": {
    "collapsed": false,
    "ExecuteTime": {
     "end_time": "2024-02-12T13:53:59.881867300Z",
     "start_time": "2024-02-12T13:53:55.459542Z"
    }
   }
  },
  {
   "cell_type": "code",
   "execution_count": 10,
   "outputs": [
    {
     "data": {
      "text/plain": "        log_index                                   transaction_hash  \\\n86             86  0x53cf14b25c5d1316b53f4b8e73e32fcfb4232bd73c2b...   \n177           177  0xbbcddf18079d76b163f269c0853c2ff1dbac05e69b9d...   \n233           233  0x6272d99f7278c79db9483ef4a6e1978a655bca2f3fa8...   \n239           239  0x6272d99f7278c79db9483ef4a6e1978a655bca2f3fa8...   \n265           265  0x0ba3bfd593613e19c499b8ba9130ebc95e786d8fa5d6...   \n...           ...                                                ...   \n255690        398  0x6675f3e6dc788307ff2c7d5f0da5e5f01be4ed791f31...   \n255741        125  0x223804a66b3809d40b1a3000c4ec822372f4a5b1ccf9...   \n255901        285  0xb11097c3920771919f8f8d00318031ec27d470e7c929...   \n255978         41  0x9e82480ce5bbde3de5c6b55e5c5c9f8993a77fa463e5...   \n256029         92  0xf1251f940c86926d0791bb73831344bf23f9e7788da5...   \n\n        transaction_index                                         block_hash  \\\n86                     27  0x27bf13cffca28a5c47c4ca753ac02ea72a431d123235...   \n177                    75  0x27bf13cffca28a5c47c4ca753ac02ea72a431d123235...   \n233                    96  0x27bf13cffca28a5c47c4ca753ac02ea72a431d123235...   \n239                    96  0x27bf13cffca28a5c47c4ca753ac02ea72a431d123235...   \n265                   103  0x27bf13cffca28a5c47c4ca753ac02ea72a431d123235...   \n...                   ...                                                ...   \n255690                189  0x0580489a6a124a95d1b077df0f250e4bd81675e1837e...   \n255741                 56  0xfd4f2723407c6c14e4c5757c85bc94cb6f34497387b6...   \n255901                 68  0xfd4f2723407c6c14e4c5757c85bc94cb6f34497387b6...   \n255978                 33  0x485ae9b8b725a22bec6fee2cdb06295fd78eca98a4d9...   \n256029                 43  0x485ae9b8b725a22bec6fee2cdb06295fd78eca98a4d9...   \n\n        block_number                              event_src_addr  \\\n86          18257034  0xcfc5aeac89e573b7b19c2bada006dac582b34ea1   \n177         18257034  0x5f1002ae7ce00caca60abd017a5aaceb01f09349   \n233         18257034  0xddcc52a3318293dcb02bb631c1915e013c7dc34c   \n239         18257034  0xddcc52a3318293dcb02bb631c1915e013c7dc34c   \n265         18257034  0x93ba064d66a92ccca2827f688be8f7b352539957   \n...              ...                                         ...   \n255690      18257738  0xe8c6c9227491c0a8156a0106a0204d881bb7e531   \n255741      18257741  0x7858e59e0c01ea06df3af3d20ac7b0003275d4bf   \n255901      18257741  0xfbfdde37a8c5e24f5b23c33e4bb11a32eb70bf02   \n255978      18257742  0xae30f13675a1b58c313663f066c43e6190457a76   \n256029      18257742  0x7216c554e02dad3eac50d693d206aca36f410bc0   \n\n                                                     data  \\\n86      0x00000000000000000000000000000000000000000000...   \n177     0x00000000000000000000000000000000000000000000...   \n233     0x00000000000000000000000000000000000000000000...   \n239     0x00000000000000000000000000000000000000000000...   \n265     0x00000000000000000000000000000000000000000000...   \n...                                                   ...   \n255690  0xffffffffffffffffffffffffffffffffffffffffffff...   \n255741  0xffffffffffffffffffffffffffffffffffffffffffff...   \n255901  0x00000000000000000000000000000000000000000000...   \n255978  0x00000000000000000000000000000000000000000000...   \n256029  0xffffffffffffffffffffffffffffffffffffffffffff...   \n\n                                                   topics  \n86      0xd78ad95fa46c994b6551d0da85fc275fe613ce37657f...  \n177     0xd78ad95fa46c994b6551d0da85fc275fe613ce37657f...  \n233     0xd78ad95fa46c994b6551d0da85fc275fe613ce37657f...  \n239     0xd78ad95fa46c994b6551d0da85fc275fe613ce37657f...  \n265     0xd78ad95fa46c994b6551d0da85fc275fe613ce37657f...  \n...                                                   ...  \n255690  0xc42079f94a6350d7e6235f29174924f928cc2ac818eb...  \n255741  0xc42079f94a6350d7e6235f29174924f928cc2ac818eb...  \n255901  0xd78ad95fa46c994b6551d0da85fc275fe613ce37657f...  \n255978  0xd78ad95fa46c994b6551d0da85fc275fe613ce37657f...  \n256029  0xc42079f94a6350d7e6235f29174924f928cc2ac818eb...  \n\n[8239 rows x 8 columns]",
      "text/html": "<div>\n<style scoped>\n    .dataframe tbody tr th:only-of-type {\n        vertical-align: middle;\n    }\n\n    .dataframe tbody tr th {\n        vertical-align: top;\n    }\n\n    .dataframe thead th {\n        text-align: right;\n    }\n</style>\n<table border=\"1\" class=\"dataframe\">\n  <thead>\n    <tr style=\"text-align: right;\">\n      <th></th>\n      <th>log_index</th>\n      <th>transaction_hash</th>\n      <th>transaction_index</th>\n      <th>block_hash</th>\n      <th>block_number</th>\n      <th>event_src_addr</th>\n      <th>data</th>\n      <th>topics</th>\n    </tr>\n  </thead>\n  <tbody>\n    <tr>\n      <th>86</th>\n      <td>86</td>\n      <td>0x53cf14b25c5d1316b53f4b8e73e32fcfb4232bd73c2b...</td>\n      <td>27</td>\n      <td>0x27bf13cffca28a5c47c4ca753ac02ea72a431d123235...</td>\n      <td>18257034</td>\n      <td>0xcfc5aeac89e573b7b19c2bada006dac582b34ea1</td>\n      <td>0x00000000000000000000000000000000000000000000...</td>\n      <td>0xd78ad95fa46c994b6551d0da85fc275fe613ce37657f...</td>\n    </tr>\n    <tr>\n      <th>177</th>\n      <td>177</td>\n      <td>0xbbcddf18079d76b163f269c0853c2ff1dbac05e69b9d...</td>\n      <td>75</td>\n      <td>0x27bf13cffca28a5c47c4ca753ac02ea72a431d123235...</td>\n      <td>18257034</td>\n      <td>0x5f1002ae7ce00caca60abd017a5aaceb01f09349</td>\n      <td>0x00000000000000000000000000000000000000000000...</td>\n      <td>0xd78ad95fa46c994b6551d0da85fc275fe613ce37657f...</td>\n    </tr>\n    <tr>\n      <th>233</th>\n      <td>233</td>\n      <td>0x6272d99f7278c79db9483ef4a6e1978a655bca2f3fa8...</td>\n      <td>96</td>\n      <td>0x27bf13cffca28a5c47c4ca753ac02ea72a431d123235...</td>\n      <td>18257034</td>\n      <td>0xddcc52a3318293dcb02bb631c1915e013c7dc34c</td>\n      <td>0x00000000000000000000000000000000000000000000...</td>\n      <td>0xd78ad95fa46c994b6551d0da85fc275fe613ce37657f...</td>\n    </tr>\n    <tr>\n      <th>239</th>\n      <td>239</td>\n      <td>0x6272d99f7278c79db9483ef4a6e1978a655bca2f3fa8...</td>\n      <td>96</td>\n      <td>0x27bf13cffca28a5c47c4ca753ac02ea72a431d123235...</td>\n      <td>18257034</td>\n      <td>0xddcc52a3318293dcb02bb631c1915e013c7dc34c</td>\n      <td>0x00000000000000000000000000000000000000000000...</td>\n      <td>0xd78ad95fa46c994b6551d0da85fc275fe613ce37657f...</td>\n    </tr>\n    <tr>\n      <th>265</th>\n      <td>265</td>\n      <td>0x0ba3bfd593613e19c499b8ba9130ebc95e786d8fa5d6...</td>\n      <td>103</td>\n      <td>0x27bf13cffca28a5c47c4ca753ac02ea72a431d123235...</td>\n      <td>18257034</td>\n      <td>0x93ba064d66a92ccca2827f688be8f7b352539957</td>\n      <td>0x00000000000000000000000000000000000000000000...</td>\n      <td>0xd78ad95fa46c994b6551d0da85fc275fe613ce37657f...</td>\n    </tr>\n    <tr>\n      <th>...</th>\n      <td>...</td>\n      <td>...</td>\n      <td>...</td>\n      <td>...</td>\n      <td>...</td>\n      <td>...</td>\n      <td>...</td>\n      <td>...</td>\n    </tr>\n    <tr>\n      <th>255690</th>\n      <td>398</td>\n      <td>0x6675f3e6dc788307ff2c7d5f0da5e5f01be4ed791f31...</td>\n      <td>189</td>\n      <td>0x0580489a6a124a95d1b077df0f250e4bd81675e1837e...</td>\n      <td>18257738</td>\n      <td>0xe8c6c9227491c0a8156a0106a0204d881bb7e531</td>\n      <td>0xffffffffffffffffffffffffffffffffffffffffffff...</td>\n      <td>0xc42079f94a6350d7e6235f29174924f928cc2ac818eb...</td>\n    </tr>\n    <tr>\n      <th>255741</th>\n      <td>125</td>\n      <td>0x223804a66b3809d40b1a3000c4ec822372f4a5b1ccf9...</td>\n      <td>56</td>\n      <td>0xfd4f2723407c6c14e4c5757c85bc94cb6f34497387b6...</td>\n      <td>18257741</td>\n      <td>0x7858e59e0c01ea06df3af3d20ac7b0003275d4bf</td>\n      <td>0xffffffffffffffffffffffffffffffffffffffffffff...</td>\n      <td>0xc42079f94a6350d7e6235f29174924f928cc2ac818eb...</td>\n    </tr>\n    <tr>\n      <th>255901</th>\n      <td>285</td>\n      <td>0xb11097c3920771919f8f8d00318031ec27d470e7c929...</td>\n      <td>68</td>\n      <td>0xfd4f2723407c6c14e4c5757c85bc94cb6f34497387b6...</td>\n      <td>18257741</td>\n      <td>0xfbfdde37a8c5e24f5b23c33e4bb11a32eb70bf02</td>\n      <td>0x00000000000000000000000000000000000000000000...</td>\n      <td>0xd78ad95fa46c994b6551d0da85fc275fe613ce37657f...</td>\n    </tr>\n    <tr>\n      <th>255978</th>\n      <td>41</td>\n      <td>0x9e82480ce5bbde3de5c6b55e5c5c9f8993a77fa463e5...</td>\n      <td>33</td>\n      <td>0x485ae9b8b725a22bec6fee2cdb06295fd78eca98a4d9...</td>\n      <td>18257742</td>\n      <td>0xae30f13675a1b58c313663f066c43e6190457a76</td>\n      <td>0x00000000000000000000000000000000000000000000...</td>\n      <td>0xd78ad95fa46c994b6551d0da85fc275fe613ce37657f...</td>\n    </tr>\n    <tr>\n      <th>256029</th>\n      <td>92</td>\n      <td>0xf1251f940c86926d0791bb73831344bf23f9e7788da5...</td>\n      <td>43</td>\n      <td>0x485ae9b8b725a22bec6fee2cdb06295fd78eca98a4d9...</td>\n      <td>18257742</td>\n      <td>0x7216c554e02dad3eac50d693d206aca36f410bc0</td>\n      <td>0xffffffffffffffffffffffffffffffffffffffffffff...</td>\n      <td>0xc42079f94a6350d7e6235f29174924f928cc2ac818eb...</td>\n    </tr>\n  </tbody>\n</table>\n<p>8239 rows × 8 columns</p>\n</div>"
     },
     "execution_count": 10,
     "metadata": {},
     "output_type": "execute_result"
    }
   ],
   "source": [
    "universal_router_transactions_df = eth_blockchain_transactions_df[(eth_blockchain_transactions_df['to_address'] == UNIVERSAL_ROUTER_CONTRACT_ADDRESS)].drop(columns='to_address')\n",
    "# print(universal_router_transactions_df)\n",
    "\n",
    "universal_router_logs_df = eth_blockchain_logs_df[eth_blockchain_logs_df['transaction_hash'].isin(universal_router_transactions_df['transaction_hash'])]\n",
    "# print(universal_router_logs_df)\n",
    "\n",
    "universal_router_tracked_events_logs = universal_router_logs_df[universal_router_logs_df['topics'].str.split(',').apply(lambda topics: topics[0]).isin(TRACKED_EVENTS)]\n",
    "\n",
    "universal_router_tracked_events_logs"
   ],
   "metadata": {
    "collapsed": false,
    "ExecuteTime": {
     "end_time": "2024-02-12T13:55:37.309160200Z",
     "start_time": "2024-02-12T13:55:37.231376200Z"
    }
   }
  },
  {
   "cell_type": "code",
   "execution_count": 4,
   "outputs": [
    {
     "data": {
      "text/plain": "     log_index                                   transaction_hash  \\\n86          86  0x53cf14b25c5d1316b53f4b8e73e32fcfb4232bd73c2b...   \n177        177  0xbbcddf18079d76b163f269c0853c2ff1dbac05e69b9d...   \n233        233  0x6272d99f7278c79db9483ef4a6e1978a655bca2f3fa8...   \n\n     transaction_index                                         block_hash  \\\n86                  27  0x27bf13cffca28a5c47c4ca753ac02ea72a431d123235...   \n177                 75  0x27bf13cffca28a5c47c4ca753ac02ea72a431d123235...   \n233                 96  0x27bf13cffca28a5c47c4ca753ac02ea72a431d123235...   \n\n     block_number                              event_src_addr  \\\n86       18257034  0xcfc5aeac89e573b7b19c2bada006dac582b34ea1   \n177      18257034  0x5f1002ae7ce00caca60abd017a5aaceb01f09349   \n233      18257034  0xddcc52a3318293dcb02bb631c1915e013c7dc34c   \n\n                                                  data  \\\n86   0x00000000000000000000000000000000000000000000...   \n177  0x00000000000000000000000000000000000000000000...   \n233  0x00000000000000000000000000000000000000000000...   \n\n                                                topics  \n86   0xd78ad95fa46c994b6551d0da85fc275fe613ce37657f...  \n177  0xd78ad95fa46c994b6551d0da85fc275fe613ce37657f...  \n233  0xd78ad95fa46c994b6551d0da85fc275fe613ce37657f...  ",
      "text/html": "<div>\n<style scoped>\n    .dataframe tbody tr th:only-of-type {\n        vertical-align: middle;\n    }\n\n    .dataframe tbody tr th {\n        vertical-align: top;\n    }\n\n    .dataframe thead th {\n        text-align: right;\n    }\n</style>\n<table border=\"1\" class=\"dataframe\">\n  <thead>\n    <tr style=\"text-align: right;\">\n      <th></th>\n      <th>log_index</th>\n      <th>transaction_hash</th>\n      <th>transaction_index</th>\n      <th>block_hash</th>\n      <th>block_number</th>\n      <th>event_src_addr</th>\n      <th>data</th>\n      <th>topics</th>\n    </tr>\n  </thead>\n  <tbody>\n    <tr>\n      <th>86</th>\n      <td>86</td>\n      <td>0x53cf14b25c5d1316b53f4b8e73e32fcfb4232bd73c2b...</td>\n      <td>27</td>\n      <td>0x27bf13cffca28a5c47c4ca753ac02ea72a431d123235...</td>\n      <td>18257034</td>\n      <td>0xcfc5aeac89e573b7b19c2bada006dac582b34ea1</td>\n      <td>0x00000000000000000000000000000000000000000000...</td>\n      <td>0xd78ad95fa46c994b6551d0da85fc275fe613ce37657f...</td>\n    </tr>\n    <tr>\n      <th>177</th>\n      <td>177</td>\n      <td>0xbbcddf18079d76b163f269c0853c2ff1dbac05e69b9d...</td>\n      <td>75</td>\n      <td>0x27bf13cffca28a5c47c4ca753ac02ea72a431d123235...</td>\n      <td>18257034</td>\n      <td>0x5f1002ae7ce00caca60abd017a5aaceb01f09349</td>\n      <td>0x00000000000000000000000000000000000000000000...</td>\n      <td>0xd78ad95fa46c994b6551d0da85fc275fe613ce37657f...</td>\n    </tr>\n    <tr>\n      <th>233</th>\n      <td>233</td>\n      <td>0x6272d99f7278c79db9483ef4a6e1978a655bca2f3fa8...</td>\n      <td>96</td>\n      <td>0x27bf13cffca28a5c47c4ca753ac02ea72a431d123235...</td>\n      <td>18257034</td>\n      <td>0xddcc52a3318293dcb02bb631c1915e013c7dc34c</td>\n      <td>0x00000000000000000000000000000000000000000000...</td>\n      <td>0xd78ad95fa46c994b6551d0da85fc275fe613ce37657f...</td>\n    </tr>\n  </tbody>\n</table>\n</div>"
     },
     "execution_count": 4,
     "metadata": {},
     "output_type": "execute_result"
    }
   ],
   "source": [
    "# Universal Router tracked events logs df\n",
    "universal_router_tracked_events_logs.head(3)"
   ],
   "metadata": {
    "collapsed": false,
    "ExecuteTime": {
     "end_time": "2024-02-12T13:54:16.537684100Z",
     "start_time": "2024-02-12T13:54:16.509657Z"
    }
   }
  },
  {
   "cell_type": "code",
   "execution_count": 5,
   "outputs": [
    {
     "data": {
      "text/plain": "                                     transaction_hash  \\\n27  0x53cf14b25c5d1316b53f4b8e73e32fcfb4232bd73c2b...   \n75  0xbbcddf18079d76b163f269c0853c2ff1dbac05e69b9d...   \n96  0x6272d99f7278c79db9483ef4a6e1978a655bca2f3fa8...   \n\n                                sender_address              value     gas  \\\n27  0x6d580849c3b098aa559479cd68e4c86664fc5b77  30000000000000000  222069   \n75  0x29131059129132b59249848b4505ca4d907807c9                  0  252950   \n96  0x0c4496358f5e2da56462bdddc450c1b2754f6852                  0  489536   \n\n      gas_price                                              input  \\\n27  10811754905  0x24856bc3000000000000000000000000000000000000...   \n75   9111754905  0x3593564c000000000000000000000000000000000000...   \n96   8911754905  0x3593564c000000000000000000000000000000000000...   \n\n    block_timestamp  max_fee_per_gas  max_priority_fee_per_gas  \\\n27       1696179587     1.207127e+10              2.000000e+09   \n75       1696179587     1.444910e+10              3.000000e+08   \n96       1696179587     1.088466e+10              1.000000e+08   \n\n    transaction_type  \n27                 2  \n75                 2  \n96                 2  ",
      "text/html": "<div>\n<style scoped>\n    .dataframe tbody tr th:only-of-type {\n        vertical-align: middle;\n    }\n\n    .dataframe tbody tr th {\n        vertical-align: top;\n    }\n\n    .dataframe thead th {\n        text-align: right;\n    }\n</style>\n<table border=\"1\" class=\"dataframe\">\n  <thead>\n    <tr style=\"text-align: right;\">\n      <th></th>\n      <th>transaction_hash</th>\n      <th>sender_address</th>\n      <th>value</th>\n      <th>gas</th>\n      <th>gas_price</th>\n      <th>input</th>\n      <th>block_timestamp</th>\n      <th>max_fee_per_gas</th>\n      <th>max_priority_fee_per_gas</th>\n      <th>transaction_type</th>\n    </tr>\n  </thead>\n  <tbody>\n    <tr>\n      <th>27</th>\n      <td>0x53cf14b25c5d1316b53f4b8e73e32fcfb4232bd73c2b...</td>\n      <td>0x6d580849c3b098aa559479cd68e4c86664fc5b77</td>\n      <td>30000000000000000</td>\n      <td>222069</td>\n      <td>10811754905</td>\n      <td>0x24856bc3000000000000000000000000000000000000...</td>\n      <td>1696179587</td>\n      <td>1.207127e+10</td>\n      <td>2.000000e+09</td>\n      <td>2</td>\n    </tr>\n    <tr>\n      <th>75</th>\n      <td>0xbbcddf18079d76b163f269c0853c2ff1dbac05e69b9d...</td>\n      <td>0x29131059129132b59249848b4505ca4d907807c9</td>\n      <td>0</td>\n      <td>252950</td>\n      <td>9111754905</td>\n      <td>0x3593564c000000000000000000000000000000000000...</td>\n      <td>1696179587</td>\n      <td>1.444910e+10</td>\n      <td>3.000000e+08</td>\n      <td>2</td>\n    </tr>\n    <tr>\n      <th>96</th>\n      <td>0x6272d99f7278c79db9483ef4a6e1978a655bca2f3fa8...</td>\n      <td>0x0c4496358f5e2da56462bdddc450c1b2754f6852</td>\n      <td>0</td>\n      <td>489536</td>\n      <td>8911754905</td>\n      <td>0x3593564c000000000000000000000000000000000000...</td>\n      <td>1696179587</td>\n      <td>1.088466e+10</td>\n      <td>1.000000e+08</td>\n      <td>2</td>\n    </tr>\n  </tbody>\n</table>\n</div>"
     },
     "execution_count": 5,
     "metadata": {},
     "output_type": "execute_result"
    }
   ],
   "source": [
    "# Universal Router transactions df\n",
    "# print(universal_router_transactions_df.head(3).iloc(1)[0][75]) # hash\n",
    "# print(universal_router_transactions_df.head(3).iloc(1)[10][75]) # input\n",
    "universal_router_transactions_df.head(3)"
   ],
   "metadata": {
    "collapsed": false,
    "ExecuteTime": {
     "end_time": "2024-02-12T13:54:19.268131700Z",
     "start_time": "2024-02-12T13:54:19.214703100Z"
    }
   }
  },
  {
   "cell_type": "code",
   "execution_count": 8,
   "outputs": [
    {
     "data": {
      "text/plain": "      log_index                                   transaction_hash  \\\n0            86  0x53cf14b25c5d1316b53f4b8e73e32fcfb4232bd73c2b...   \n1           177  0xbbcddf18079d76b163f269c0853c2ff1dbac05e69b9d...   \n2           233  0x6272d99f7278c79db9483ef4a6e1978a655bca2f3fa8...   \n3           239  0x6272d99f7278c79db9483ef4a6e1978a655bca2f3fa8...   \n4           265  0x0ba3bfd593613e19c499b8ba9130ebc95e786d8fa5d6...   \n...         ...                                                ...   \n8234        398  0x6675f3e6dc788307ff2c7d5f0da5e5f01be4ed791f31...   \n8235        125  0x223804a66b3809d40b1a3000c4ec822372f4a5b1ccf9...   \n8236        285  0xb11097c3920771919f8f8d00318031ec27d470e7c929...   \n8237         41  0x9e82480ce5bbde3de5c6b55e5c5c9f8993a77fa463e5...   \n8238         92  0xf1251f940c86926d0791bb73831344bf23f9e7788da5...   \n\n      transaction_index                                         block_hash  \\\n0                    27  0x27bf13cffca28a5c47c4ca753ac02ea72a431d123235...   \n1                    75  0x27bf13cffca28a5c47c4ca753ac02ea72a431d123235...   \n2                    96  0x27bf13cffca28a5c47c4ca753ac02ea72a431d123235...   \n3                    96  0x27bf13cffca28a5c47c4ca753ac02ea72a431d123235...   \n4                   103  0x27bf13cffca28a5c47c4ca753ac02ea72a431d123235...   \n...                 ...                                                ...   \n8234                189  0x0580489a6a124a95d1b077df0f250e4bd81675e1837e...   \n8235                 56  0xfd4f2723407c6c14e4c5757c85bc94cb6f34497387b6...   \n8236                 68  0xfd4f2723407c6c14e4c5757c85bc94cb6f34497387b6...   \n8237                 33  0x485ae9b8b725a22bec6fee2cdb06295fd78eca98a4d9...   \n8238                 43  0x485ae9b8b725a22bec6fee2cdb06295fd78eca98a4d9...   \n\n      block_number                              event_src_addr  \\\n0         18257034  0xcfc5aeac89e573b7b19c2bada006dac582b34ea1   \n1         18257034  0x5f1002ae7ce00caca60abd017a5aaceb01f09349   \n2         18257034  0xddcc52a3318293dcb02bb631c1915e013c7dc34c   \n3         18257034  0xddcc52a3318293dcb02bb631c1915e013c7dc34c   \n4         18257034  0x93ba064d66a92ccca2827f688be8f7b352539957   \n...            ...                                         ...   \n8234      18257738  0xe8c6c9227491c0a8156a0106a0204d881bb7e531   \n8235      18257741  0x7858e59e0c01ea06df3af3d20ac7b0003275d4bf   \n8236      18257741  0xfbfdde37a8c5e24f5b23c33e4bb11a32eb70bf02   \n8237      18257742  0xae30f13675a1b58c313663f066c43e6190457a76   \n8238      18257742  0x7216c554e02dad3eac50d693d206aca36f410bc0   \n\n                                                   data  \\\n0     0x00000000000000000000000000000000000000000000...   \n1     0x00000000000000000000000000000000000000000000...   \n2     0x00000000000000000000000000000000000000000000...   \n3     0x00000000000000000000000000000000000000000000...   \n4     0x00000000000000000000000000000000000000000000...   \n...                                                 ...   \n8234  0xffffffffffffffffffffffffffffffffffffffffffff...   \n8235  0xffffffffffffffffffffffffffffffffffffffffffff...   \n8236  0x00000000000000000000000000000000000000000000...   \n8237  0x00000000000000000000000000000000000000000000...   \n8238  0xffffffffffffffffffffffffffffffffffffffffffff...   \n\n                                                 topics  \\\n0     0xd78ad95fa46c994b6551d0da85fc275fe613ce37657f...   \n1     0xd78ad95fa46c994b6551d0da85fc275fe613ce37657f...   \n2     0xd78ad95fa46c994b6551d0da85fc275fe613ce37657f...   \n3     0xd78ad95fa46c994b6551d0da85fc275fe613ce37657f...   \n4     0xd78ad95fa46c994b6551d0da85fc275fe613ce37657f...   \n...                                                 ...   \n8234  0xc42079f94a6350d7e6235f29174924f928cc2ac818eb...   \n8235  0xc42079f94a6350d7e6235f29174924f928cc2ac818eb...   \n8236  0xd78ad95fa46c994b6551d0da85fc275fe613ce37657f...   \n8237  0xd78ad95fa46c994b6551d0da85fc275fe613ce37657f...   \n8238  0xc42079f94a6350d7e6235f29174924f928cc2ac818eb...   \n\n                                  sender_address              value     gas  \\\n0     0x6d580849c3b098aa559479cd68e4c86664fc5b77  30000000000000000  222069   \n1     0x29131059129132b59249848b4505ca4d907807c9                  0  252950   \n2     0x0c4496358f5e2da56462bdddc450c1b2754f6852                  0  489536   \n3     0x0c4496358f5e2da56462bdddc450c1b2754f6852                  0  489536   \n4     0x6e132c4c256255174e6fcf72c549bc58d737da45  10000000000000000  163526   \n...                                          ...                ...     ...   \n8234  0x3c4e08d4b09ef4b12e6a8ab0b0c8bbc289b36673                  0  314229   \n8235  0xfe9d9a0e27a59a3f33a4ede0894f72d6de2017a8                  0  167059   \n8236  0x35f32de5c007d8e24c6ac0bf4573e73e52fc4602  15000000000000000  224421   \n8237  0x0fe463fbb8ec8db3a8478356a7312e57282f30cd                  0  292882   \n8238  0xcdaf7f32b52990ea633695a8115c63c54099ba76  30000000000000000  189775   \n\n        gas_price                                              input  \\\n0     10811754905  0x24856bc3000000000000000000000000000000000000...   \n1      9111754905  0x3593564c000000000000000000000000000000000000...   \n2      8911754905  0x3593564c000000000000000000000000000000000000...   \n3      8911754905  0x3593564c000000000000000000000000000000000000...   \n4      8911754905  0x3593564c000000000000000000000000000000000000...   \n...           ...                                                ...   \n8234   6344924886  0x3593564c000000000000000000000000000000000000...   \n8235   6230066635  0x3593564c000000000000000000000000000000000000...   \n8236   6066658618  0x3593564c000000000000000000000000000000000000...   \n8237   7350000000  0x3593564c000000000000000000000000000000000000...   \n8238   6770705173  0x3593564c000000000000000000000000000000000000...   \n\n      block_timestamp  max_fee_per_gas  max_priority_fee_per_gas  \\\n0          1696179587     1.207127e+10              2.000000e+09   \n1          1696179587     1.444910e+10              3.000000e+08   \n2          1696179587     1.088466e+10              1.000000e+08   \n3          1696179587     1.088466e+10              1.000000e+08   \n4          1696179587     1.160165e+10              1.000000e+08   \n...               ...              ...                       ...   \n8234       1696188071     8.578095e+09              1.000000e+07   \n8235       1696188107     1.106937e+10              3.000000e+08   \n8236       1696188107              NaN                       NaN   \n8237       1696188119              NaN                       NaN   \n8238       1696188119     9.529137e+09              1.000000e+08   \n\n      transaction_type  \n0                    2  \n1                    2  \n2                    2  \n3                    2  \n4                    2  \n...                ...  \n8234                 2  \n8235                 2  \n8236                 0  \n8237                 0  \n8238                 2  \n\n[8239 rows x 17 columns]",
      "text/html": "<div>\n<style scoped>\n    .dataframe tbody tr th:only-of-type {\n        vertical-align: middle;\n    }\n\n    .dataframe tbody tr th {\n        vertical-align: top;\n    }\n\n    .dataframe thead th {\n        text-align: right;\n    }\n</style>\n<table border=\"1\" class=\"dataframe\">\n  <thead>\n    <tr style=\"text-align: right;\">\n      <th></th>\n      <th>log_index</th>\n      <th>transaction_hash</th>\n      <th>transaction_index</th>\n      <th>block_hash</th>\n      <th>block_number</th>\n      <th>event_src_addr</th>\n      <th>data</th>\n      <th>topics</th>\n      <th>sender_address</th>\n      <th>value</th>\n      <th>gas</th>\n      <th>gas_price</th>\n      <th>input</th>\n      <th>block_timestamp</th>\n      <th>max_fee_per_gas</th>\n      <th>max_priority_fee_per_gas</th>\n      <th>transaction_type</th>\n    </tr>\n  </thead>\n  <tbody>\n    <tr>\n      <th>0</th>\n      <td>86</td>\n      <td>0x53cf14b25c5d1316b53f4b8e73e32fcfb4232bd73c2b...</td>\n      <td>27</td>\n      <td>0x27bf13cffca28a5c47c4ca753ac02ea72a431d123235...</td>\n      <td>18257034</td>\n      <td>0xcfc5aeac89e573b7b19c2bada006dac582b34ea1</td>\n      <td>0x00000000000000000000000000000000000000000000...</td>\n      <td>0xd78ad95fa46c994b6551d0da85fc275fe613ce37657f...</td>\n      <td>0x6d580849c3b098aa559479cd68e4c86664fc5b77</td>\n      <td>30000000000000000</td>\n      <td>222069</td>\n      <td>10811754905</td>\n      <td>0x24856bc3000000000000000000000000000000000000...</td>\n      <td>1696179587</td>\n      <td>1.207127e+10</td>\n      <td>2.000000e+09</td>\n      <td>2</td>\n    </tr>\n    <tr>\n      <th>1</th>\n      <td>177</td>\n      <td>0xbbcddf18079d76b163f269c0853c2ff1dbac05e69b9d...</td>\n      <td>75</td>\n      <td>0x27bf13cffca28a5c47c4ca753ac02ea72a431d123235...</td>\n      <td>18257034</td>\n      <td>0x5f1002ae7ce00caca60abd017a5aaceb01f09349</td>\n      <td>0x00000000000000000000000000000000000000000000...</td>\n      <td>0xd78ad95fa46c994b6551d0da85fc275fe613ce37657f...</td>\n      <td>0x29131059129132b59249848b4505ca4d907807c9</td>\n      <td>0</td>\n      <td>252950</td>\n      <td>9111754905</td>\n      <td>0x3593564c000000000000000000000000000000000000...</td>\n      <td>1696179587</td>\n      <td>1.444910e+10</td>\n      <td>3.000000e+08</td>\n      <td>2</td>\n    </tr>\n    <tr>\n      <th>2</th>\n      <td>233</td>\n      <td>0x6272d99f7278c79db9483ef4a6e1978a655bca2f3fa8...</td>\n      <td>96</td>\n      <td>0x27bf13cffca28a5c47c4ca753ac02ea72a431d123235...</td>\n      <td>18257034</td>\n      <td>0xddcc52a3318293dcb02bb631c1915e013c7dc34c</td>\n      <td>0x00000000000000000000000000000000000000000000...</td>\n      <td>0xd78ad95fa46c994b6551d0da85fc275fe613ce37657f...</td>\n      <td>0x0c4496358f5e2da56462bdddc450c1b2754f6852</td>\n      <td>0</td>\n      <td>489536</td>\n      <td>8911754905</td>\n      <td>0x3593564c000000000000000000000000000000000000...</td>\n      <td>1696179587</td>\n      <td>1.088466e+10</td>\n      <td>1.000000e+08</td>\n      <td>2</td>\n    </tr>\n    <tr>\n      <th>3</th>\n      <td>239</td>\n      <td>0x6272d99f7278c79db9483ef4a6e1978a655bca2f3fa8...</td>\n      <td>96</td>\n      <td>0x27bf13cffca28a5c47c4ca753ac02ea72a431d123235...</td>\n      <td>18257034</td>\n      <td>0xddcc52a3318293dcb02bb631c1915e013c7dc34c</td>\n      <td>0x00000000000000000000000000000000000000000000...</td>\n      <td>0xd78ad95fa46c994b6551d0da85fc275fe613ce37657f...</td>\n      <td>0x0c4496358f5e2da56462bdddc450c1b2754f6852</td>\n      <td>0</td>\n      <td>489536</td>\n      <td>8911754905</td>\n      <td>0x3593564c000000000000000000000000000000000000...</td>\n      <td>1696179587</td>\n      <td>1.088466e+10</td>\n      <td>1.000000e+08</td>\n      <td>2</td>\n    </tr>\n    <tr>\n      <th>4</th>\n      <td>265</td>\n      <td>0x0ba3bfd593613e19c499b8ba9130ebc95e786d8fa5d6...</td>\n      <td>103</td>\n      <td>0x27bf13cffca28a5c47c4ca753ac02ea72a431d123235...</td>\n      <td>18257034</td>\n      <td>0x93ba064d66a92ccca2827f688be8f7b352539957</td>\n      <td>0x00000000000000000000000000000000000000000000...</td>\n      <td>0xd78ad95fa46c994b6551d0da85fc275fe613ce37657f...</td>\n      <td>0x6e132c4c256255174e6fcf72c549bc58d737da45</td>\n      <td>10000000000000000</td>\n      <td>163526</td>\n      <td>8911754905</td>\n      <td>0x3593564c000000000000000000000000000000000000...</td>\n      <td>1696179587</td>\n      <td>1.160165e+10</td>\n      <td>1.000000e+08</td>\n      <td>2</td>\n    </tr>\n    <tr>\n      <th>...</th>\n      <td>...</td>\n      <td>...</td>\n      <td>...</td>\n      <td>...</td>\n      <td>...</td>\n      <td>...</td>\n      <td>...</td>\n      <td>...</td>\n      <td>...</td>\n      <td>...</td>\n      <td>...</td>\n      <td>...</td>\n      <td>...</td>\n      <td>...</td>\n      <td>...</td>\n      <td>...</td>\n      <td>...</td>\n    </tr>\n    <tr>\n      <th>8234</th>\n      <td>398</td>\n      <td>0x6675f3e6dc788307ff2c7d5f0da5e5f01be4ed791f31...</td>\n      <td>189</td>\n      <td>0x0580489a6a124a95d1b077df0f250e4bd81675e1837e...</td>\n      <td>18257738</td>\n      <td>0xe8c6c9227491c0a8156a0106a0204d881bb7e531</td>\n      <td>0xffffffffffffffffffffffffffffffffffffffffffff...</td>\n      <td>0xc42079f94a6350d7e6235f29174924f928cc2ac818eb...</td>\n      <td>0x3c4e08d4b09ef4b12e6a8ab0b0c8bbc289b36673</td>\n      <td>0</td>\n      <td>314229</td>\n      <td>6344924886</td>\n      <td>0x3593564c000000000000000000000000000000000000...</td>\n      <td>1696188071</td>\n      <td>8.578095e+09</td>\n      <td>1.000000e+07</td>\n      <td>2</td>\n    </tr>\n    <tr>\n      <th>8235</th>\n      <td>125</td>\n      <td>0x223804a66b3809d40b1a3000c4ec822372f4a5b1ccf9...</td>\n      <td>56</td>\n      <td>0xfd4f2723407c6c14e4c5757c85bc94cb6f34497387b6...</td>\n      <td>18257741</td>\n      <td>0x7858e59e0c01ea06df3af3d20ac7b0003275d4bf</td>\n      <td>0xffffffffffffffffffffffffffffffffffffffffffff...</td>\n      <td>0xc42079f94a6350d7e6235f29174924f928cc2ac818eb...</td>\n      <td>0xfe9d9a0e27a59a3f33a4ede0894f72d6de2017a8</td>\n      <td>0</td>\n      <td>167059</td>\n      <td>6230066635</td>\n      <td>0x3593564c000000000000000000000000000000000000...</td>\n      <td>1696188107</td>\n      <td>1.106937e+10</td>\n      <td>3.000000e+08</td>\n      <td>2</td>\n    </tr>\n    <tr>\n      <th>8236</th>\n      <td>285</td>\n      <td>0xb11097c3920771919f8f8d00318031ec27d470e7c929...</td>\n      <td>68</td>\n      <td>0xfd4f2723407c6c14e4c5757c85bc94cb6f34497387b6...</td>\n      <td>18257741</td>\n      <td>0xfbfdde37a8c5e24f5b23c33e4bb11a32eb70bf02</td>\n      <td>0x00000000000000000000000000000000000000000000...</td>\n      <td>0xd78ad95fa46c994b6551d0da85fc275fe613ce37657f...</td>\n      <td>0x35f32de5c007d8e24c6ac0bf4573e73e52fc4602</td>\n      <td>15000000000000000</td>\n      <td>224421</td>\n      <td>6066658618</td>\n      <td>0x3593564c000000000000000000000000000000000000...</td>\n      <td>1696188107</td>\n      <td>NaN</td>\n      <td>NaN</td>\n      <td>0</td>\n    </tr>\n    <tr>\n      <th>8237</th>\n      <td>41</td>\n      <td>0x9e82480ce5bbde3de5c6b55e5c5c9f8993a77fa463e5...</td>\n      <td>33</td>\n      <td>0x485ae9b8b725a22bec6fee2cdb06295fd78eca98a4d9...</td>\n      <td>18257742</td>\n      <td>0xae30f13675a1b58c313663f066c43e6190457a76</td>\n      <td>0x00000000000000000000000000000000000000000000...</td>\n      <td>0xd78ad95fa46c994b6551d0da85fc275fe613ce37657f...</td>\n      <td>0x0fe463fbb8ec8db3a8478356a7312e57282f30cd</td>\n      <td>0</td>\n      <td>292882</td>\n      <td>7350000000</td>\n      <td>0x3593564c000000000000000000000000000000000000...</td>\n      <td>1696188119</td>\n      <td>NaN</td>\n      <td>NaN</td>\n      <td>0</td>\n    </tr>\n    <tr>\n      <th>8238</th>\n      <td>92</td>\n      <td>0xf1251f940c86926d0791bb73831344bf23f9e7788da5...</td>\n      <td>43</td>\n      <td>0x485ae9b8b725a22bec6fee2cdb06295fd78eca98a4d9...</td>\n      <td>18257742</td>\n      <td>0x7216c554e02dad3eac50d693d206aca36f410bc0</td>\n      <td>0xffffffffffffffffffffffffffffffffffffffffffff...</td>\n      <td>0xc42079f94a6350d7e6235f29174924f928cc2ac818eb...</td>\n      <td>0xcdaf7f32b52990ea633695a8115c63c54099ba76</td>\n      <td>30000000000000000</td>\n      <td>189775</td>\n      <td>6770705173</td>\n      <td>0x3593564c000000000000000000000000000000000000...</td>\n      <td>1696188119</td>\n      <td>9.529137e+09</td>\n      <td>1.000000e+08</td>\n      <td>2</td>\n    </tr>\n  </tbody>\n</table>\n<p>8239 rows × 17 columns</p>\n</div>"
     },
     "execution_count": 8,
     "metadata": {},
     "output_type": "execute_result"
    }
   ],
   "source": [
    "'''\n",
    "Join two sources (dataframes)\n",
    "'''\n",
    "\n",
    "merged_df = pd.merge(universal_router_tracked_events_logs, universal_router_transactions_df, on='transaction_hash')\n",
    "merged_df"
   ],
   "metadata": {
    "collapsed": false,
    "ExecuteTime": {
     "end_time": "2024-02-12T13:55:02.900197500Z",
     "start_time": "2024-02-12T13:55:02.865938600Z"
    }
   }
  },
  {
   "cell_type": "code",
   "execution_count": 11,
   "metadata": {
    "collapsed": true,
    "ExecuteTime": {
     "end_time": "2024-02-12T13:55:47.906080500Z",
     "start_time": "2024-02-12T13:55:47.820221600Z"
    }
   },
   "outputs": [
    {
     "name": "stderr",
     "output_type": "stream",
     "text": [
      "C:\\Users\\mkrol\\AppData\\Local\\Temp\\ipykernel_33612\\2526627454.py:37: SettingWithCopyWarning: \n",
      "A value is trying to be set on a copy of a slice from a DataFrame.\n",
      "Try using .loc[row_indexer,col_indexer] = value instead\n",
      "\n",
      "See the caveats in the documentation: https://pandas.pydata.org/pandas-docs/stable/user_guide/indexing.html#returning-a-view-versus-a-copy\n",
      "  merged_df_sample.loc[index, 'command_identifier'] = CMD_V2_SWAP_EXACT_IN\n",
      "C:\\Users\\mkrol\\AppData\\Local\\Temp\\ipykernel_33612\\2526627454.py:38: SettingWithCopyWarning: \n",
      "A value is trying to be set on a copy of a slice from a DataFrame.\n",
      "Try using .loc[row_indexer,col_indexer] = value instead\n",
      "\n",
      "See the caveats in the documentation: https://pandas.pydata.org/pandas-docs/stable/user_guide/indexing.html#returning-a-view-versus-a-copy\n",
      "  merged_df_sample.loc[index, 'token_address_in'] = params['path'][0]\n",
      "C:\\Users\\mkrol\\AppData\\Local\\Temp\\ipykernel_33612\\2526627454.py:39: SettingWithCopyWarning: \n",
      "A value is trying to be set on a copy of a slice from a DataFrame.\n",
      "Try using .loc[row_indexer,col_indexer] = value instead\n",
      "\n",
      "See the caveats in the documentation: https://pandas.pydata.org/pandas-docs/stable/user_guide/indexing.html#returning-a-view-versus-a-copy\n",
      "  merged_df_sample.loc[index, 'token_address_out'] = params['path'][1]\n",
      "C:\\Users\\mkrol\\AppData\\Local\\Temp\\ipykernel_33612\\2526627454.py:40: SettingWithCopyWarning: \n",
      "A value is trying to be set on a copy of a slice from a DataFrame.\n",
      "Try using .loc[row_indexer,col_indexer] = value instead\n",
      "\n",
      "See the caveats in the documentation: https://pandas.pydata.org/pandas-docs/stable/user_guide/indexing.html#returning-a-view-versus-a-copy\n",
      "  merged_df_sample.loc[index, 'swap_amount_in'] = params['amountIn']\n",
      "C:\\Users\\mkrol\\AppData\\Local\\Temp\\ipykernel_33612\\2526627454.py:41: SettingWithCopyWarning: \n",
      "A value is trying to be set on a copy of a slice from a DataFrame.\n",
      "Try using .loc[row_indexer,col_indexer] = value instead\n",
      "\n",
      "See the caveats in the documentation: https://pandas.pydata.org/pandas-docs/stable/user_guide/indexing.html#returning-a-view-versus-a-copy\n",
      "  merged_df_sample.loc[index, 'swap_amount_out_min'] = params['amountOutMin']\n",
      "C:\\Users\\mkrol\\AppData\\Local\\Temp\\ipykernel_33612\\2526627454.py:46: SettingWithCopyWarning: \n",
      "A value is trying to be set on a copy of a slice from a DataFrame.\n",
      "Try using .loc[row_indexer,col_indexer] = value instead\n",
      "\n",
      "See the caveats in the documentation: https://pandas.pydata.org/pandas-docs/stable/user_guide/indexing.html#returning-a-view-versus-a-copy\n",
      "  merged_df_sample.loc[index, 'swap_amount_in_max'] = params['amountInMax']\n",
      "C:\\Users\\mkrol\\AppData\\Local\\Temp\\ipykernel_33612\\2526627454.py:47: SettingWithCopyWarning: \n",
      "A value is trying to be set on a copy of a slice from a DataFrame.\n",
      "Try using .loc[row_indexer,col_indexer] = value instead\n",
      "\n",
      "See the caveats in the documentation: https://pandas.pydata.org/pandas-docs/stable/user_guide/indexing.html#returning-a-view-versus-a-copy\n",
      "  merged_df_sample.loc[index, 'swap_amount_out'] = params['amountOut']\n"
     ]
    },
    {
     "data": {
      "text/plain": "   log_index                                   transaction_hash  \\\n0         86  0x53cf14b25c5d1316b53f4b8e73e32fcfb4232bd73c2b...   \n1        177  0xbbcddf18079d76b163f269c0853c2ff1dbac05e69b9d...   \n2        233  0x6272d99f7278c79db9483ef4a6e1978a655bca2f3fa8...   \n3        239  0x6272d99f7278c79db9483ef4a6e1978a655bca2f3fa8...   \n4        265  0x0ba3bfd593613e19c499b8ba9130ebc95e786d8fa5d6...   \n5        324  0x174f29b21bf123c08b946d4d58634489880229bed28c...   \n6        329  0x8a31eb27e80039aa6be10c2110d5293099856a02589d...   \n7        333  0x19e35cc0118c78c94f35ba460835457ec4f6a9be1025...   \n8         80  0x0cac70512b57cc78b69e1f08f33c9d693489173fb5f8...   \n9        123  0x03eade469c79b660243b1962fe830e1530ebfa080797...   \n\n   transaction_index                                         block_hash  \\\n0                 27  0x27bf13cffca28a5c47c4ca753ac02ea72a431d123235...   \n1                 75  0x27bf13cffca28a5c47c4ca753ac02ea72a431d123235...   \n2                 96  0x27bf13cffca28a5c47c4ca753ac02ea72a431d123235...   \n3                 96  0x27bf13cffca28a5c47c4ca753ac02ea72a431d123235...   \n4                103  0x27bf13cffca28a5c47c4ca753ac02ea72a431d123235...   \n5                128  0x27bf13cffca28a5c47c4ca753ac02ea72a431d123235...   \n6                129  0x27bf13cffca28a5c47c4ca753ac02ea72a431d123235...   \n7                131  0x27bf13cffca28a5c47c4ca753ac02ea72a431d123235...   \n8                 25  0x41fb348c5b21cd8915bd5a20b0b9f25c5380153f31b7...   \n9                 55  0x41fb348c5b21cd8915bd5a20b0b9f25c5380153f31b7...   \n\n   block_number                              event_src_addr  \\\n0      18257034  0xcfc5aeac89e573b7b19c2bada006dac582b34ea1   \n1      18257034  0x5f1002ae7ce00caca60abd017a5aaceb01f09349   \n2      18257034  0xddcc52a3318293dcb02bb631c1915e013c7dc34c   \n3      18257034  0xddcc52a3318293dcb02bb631c1915e013c7dc34c   \n4      18257034  0x93ba064d66a92ccca2827f688be8f7b352539957   \n5      18257034  0xcfc5aeac89e573b7b19c2bada006dac582b34ea1   \n6      18257034  0x977c5fcf7a552d38adcde4f41025956855497c6d   \n7      18257034  0x88395224c3709be9a700624bd9246459585c56b0   \n8      18257035  0x4ea15a1e4f3955c798722e33031ef818284e1b03   \n9      18257035  0xc32c2d9768919deaee60f7eb163a293c6eb81be8   \n\n                                                data  \\\n0  0x00000000000000000000000000000000000000000000...   \n1  0x00000000000000000000000000000000000000000000...   \n2  0x00000000000000000000000000000000000000000000...   \n3  0x00000000000000000000000000000000000000000000...   \n4  0x00000000000000000000000000000000000000000000...   \n5  0x00000000000000000000000000000000000000000000...   \n6  0x00000000000000000000000000000000000000000000...   \n7  0x00000000000000000000000000000000000000000000...   \n8  0x00000000000000000000000000000000000000000000...   \n9  0x00000000000000000000000000000000000000000000...   \n\n                                              topics  \\\n0  0xd78ad95fa46c994b6551d0da85fc275fe613ce37657f...   \n1  0xd78ad95fa46c994b6551d0da85fc275fe613ce37657f...   \n2  0xd78ad95fa46c994b6551d0da85fc275fe613ce37657f...   \n3  0xd78ad95fa46c994b6551d0da85fc275fe613ce37657f...   \n4  0xd78ad95fa46c994b6551d0da85fc275fe613ce37657f...   \n5  0xd78ad95fa46c994b6551d0da85fc275fe613ce37657f...   \n6  0xd78ad95fa46c994b6551d0da85fc275fe613ce37657f...   \n7  0xc42079f94a6350d7e6235f29174924f928cc2ac818eb...   \n8  0xd78ad95fa46c994b6551d0da85fc275fe613ce37657f...   \n9  0xd78ad95fa46c994b6551d0da85fc275fe613ce37657f...   \n\n                               sender_address                value  ...  \\\n0  0x6d580849c3b098aa559479cd68e4c86664fc5b77    30000000000000000  ...   \n1  0x29131059129132b59249848b4505ca4d907807c9                    0  ...   \n2  0x0c4496358f5e2da56462bdddc450c1b2754f6852                    0  ...   \n3  0x0c4496358f5e2da56462bdddc450c1b2754f6852                    0  ...   \n4  0x6e132c4c256255174e6fcf72c549bc58d737da45    10000000000000000  ...   \n5  0x8915315d1bddbc3becac4fa70b17d4881d1761f8                    0  ...   \n6  0x4e6755ace70972a78b1c173ac31c0cebac0eabb7                    0  ...   \n7  0x218e67ace2d1e5bec42721fa0f6b60aa2baf591a    50000000000000000  ...   \n8  0xf01f3ad7e79cc0457e3d5b43c11fa19ebb941cee    10000000000000000  ...   \n9  0x77b9020da34704e0cd6bf7220d252cb15346b483  1000000000000000000  ...   \n\n   max_fee_per_gas  max_priority_fee_per_gas  transaction_type  \\\n0     1.207127e+10              2.000000e+09                 2   \n1     1.444910e+10              3.000000e+08                 2   \n2     1.088466e+10              1.000000e+08                 2   \n3     1.088466e+10              1.000000e+08                 2   \n4     1.160165e+10              1.000000e+08                 2   \n5     1.024113e+10              1.000000e+07                 2   \n6     1.024113e+10              1.000000e+07                 2   \n7     9.997601e+09              1.000000e+07                 2   \n8     1.240889e+10              2.000000e+09                 2   \n9     1.444910e+10              3.000000e+08                 2   \n\n   command_identifier                            token_address_in  \\\n0    V2_SWAP_EXACT_IN  0xC02aaA39b223FE8D0A0e5C4F27eAD9083C756Cc2   \n1    V2_SWAP_EXACT_IN  0xc94862ed8F5f368252f12821b3DD28b00BCDf5a5   \n2    V2_SWAP_EXACT_IN  0x2b8DDAf520f38c23BB638766666c6f6952b2d064   \n3    V2_SWAP_EXACT_IN  0x2b8DDAf520f38c23BB638766666c6f6952b2d064   \n4    V2_SWAP_EXACT_IN  0xC02aaA39b223FE8D0A0e5C4F27eAD9083C756Cc2   \n5    V2_SWAP_EXACT_IN  0xAb320334950B365379bF6f505C7bc8763ce6641c   \n6   V2_SWAP_EXACT_OUT  0xC02aaA39b223FE8D0A0e5C4F27eAD9083C756Cc2   \n7    V3_SWAP_EXACT_IN  0xC02aaA39b223FE8D0A0e5C4F27eAD9083C756Cc2   \n8    V2_SWAP_EXACT_IN  0xC02aaA39b223FE8D0A0e5C4F27eAD9083C756Cc2   \n9    V2_SWAP_EXACT_IN  0xC02aaA39b223FE8D0A0e5C4F27eAD9083C756Cc2   \n\n                            token_address_out         swap_amount_in  \\\n0  0xAb320334950B365379bF6f505C7bc8763ce6641c    30000000000000000.0   \n1  0xC02aaA39b223FE8D0A0e5C4F27eAD9083C756Cc2     2120777171806358.0   \n2  0xC02aaA39b223FE8D0A0e5C4F27eAD9083C756Cc2  261937303117650344374   \n3  0xC02aaA39b223FE8D0A0e5C4F27eAD9083C756Cc2  261937303117650344374   \n4  0xDFd540B8A14FaB2cf02a67fAcdc61B6eE5Fee577      10000000000000000   \n5  0xC02aaA39b223FE8D0A0e5C4F27eAD9083C756Cc2        145259625212904   \n6  0xfF836A5821E69066c87E268bC51b849FaB94240C                    NaN   \n7  0xe9B076B476D8865cDF79D1Cf7DF420EE397a7f75      50000000000000000   \n8  0x244B36Af168cc3B3A24b1E6ADE3A90817cf07d22      10000000000000000   \n9  0x356e17967206eFb413b60AB0Ba44E269063A26c9    1000000000000000000   \n\n        swap_amount_out_min swap_amount_in_max           swap_amount_out  \n0         120600693930419.0                NaN                       NaN  \n1      233517830261887072.0                NaN                       NaN  \n2       30273438111052900.0                NaN                       NaN  \n3       30273438111052900.0                NaN                       NaN  \n4  110501615614802257470151                NaN                       NaN  \n5         28339416433012211                NaN                       NaN  \n6                       NaN       1.796608e+16  500000000000000000000000  \n7              518613489213                NaN                       NaN  \n8     122054033700665812471                NaN                       NaN  \n9         80677403216917245                NaN                       NaN  \n\n[10 rows x 23 columns]",
      "text/html": "<div>\n<style scoped>\n    .dataframe tbody tr th:only-of-type {\n        vertical-align: middle;\n    }\n\n    .dataframe tbody tr th {\n        vertical-align: top;\n    }\n\n    .dataframe thead th {\n        text-align: right;\n    }\n</style>\n<table border=\"1\" class=\"dataframe\">\n  <thead>\n    <tr style=\"text-align: right;\">\n      <th></th>\n      <th>log_index</th>\n      <th>transaction_hash</th>\n      <th>transaction_index</th>\n      <th>block_hash</th>\n      <th>block_number</th>\n      <th>event_src_addr</th>\n      <th>data</th>\n      <th>topics</th>\n      <th>sender_address</th>\n      <th>value</th>\n      <th>...</th>\n      <th>max_fee_per_gas</th>\n      <th>max_priority_fee_per_gas</th>\n      <th>transaction_type</th>\n      <th>command_identifier</th>\n      <th>token_address_in</th>\n      <th>token_address_out</th>\n      <th>swap_amount_in</th>\n      <th>swap_amount_out_min</th>\n      <th>swap_amount_in_max</th>\n      <th>swap_amount_out</th>\n    </tr>\n  </thead>\n  <tbody>\n    <tr>\n      <th>0</th>\n      <td>86</td>\n      <td>0x53cf14b25c5d1316b53f4b8e73e32fcfb4232bd73c2b...</td>\n      <td>27</td>\n      <td>0x27bf13cffca28a5c47c4ca753ac02ea72a431d123235...</td>\n      <td>18257034</td>\n      <td>0xcfc5aeac89e573b7b19c2bada006dac582b34ea1</td>\n      <td>0x00000000000000000000000000000000000000000000...</td>\n      <td>0xd78ad95fa46c994b6551d0da85fc275fe613ce37657f...</td>\n      <td>0x6d580849c3b098aa559479cd68e4c86664fc5b77</td>\n      <td>30000000000000000</td>\n      <td>...</td>\n      <td>1.207127e+10</td>\n      <td>2.000000e+09</td>\n      <td>2</td>\n      <td>V2_SWAP_EXACT_IN</td>\n      <td>0xC02aaA39b223FE8D0A0e5C4F27eAD9083C756Cc2</td>\n      <td>0xAb320334950B365379bF6f505C7bc8763ce6641c</td>\n      <td>30000000000000000.0</td>\n      <td>120600693930419.0</td>\n      <td>NaN</td>\n      <td>NaN</td>\n    </tr>\n    <tr>\n      <th>1</th>\n      <td>177</td>\n      <td>0xbbcddf18079d76b163f269c0853c2ff1dbac05e69b9d...</td>\n      <td>75</td>\n      <td>0x27bf13cffca28a5c47c4ca753ac02ea72a431d123235...</td>\n      <td>18257034</td>\n      <td>0x5f1002ae7ce00caca60abd017a5aaceb01f09349</td>\n      <td>0x00000000000000000000000000000000000000000000...</td>\n      <td>0xd78ad95fa46c994b6551d0da85fc275fe613ce37657f...</td>\n      <td>0x29131059129132b59249848b4505ca4d907807c9</td>\n      <td>0</td>\n      <td>...</td>\n      <td>1.444910e+10</td>\n      <td>3.000000e+08</td>\n      <td>2</td>\n      <td>V2_SWAP_EXACT_IN</td>\n      <td>0xc94862ed8F5f368252f12821b3DD28b00BCDf5a5</td>\n      <td>0xC02aaA39b223FE8D0A0e5C4F27eAD9083C756Cc2</td>\n      <td>2120777171806358.0</td>\n      <td>233517830261887072.0</td>\n      <td>NaN</td>\n      <td>NaN</td>\n    </tr>\n    <tr>\n      <th>2</th>\n      <td>233</td>\n      <td>0x6272d99f7278c79db9483ef4a6e1978a655bca2f3fa8...</td>\n      <td>96</td>\n      <td>0x27bf13cffca28a5c47c4ca753ac02ea72a431d123235...</td>\n      <td>18257034</td>\n      <td>0xddcc52a3318293dcb02bb631c1915e013c7dc34c</td>\n      <td>0x00000000000000000000000000000000000000000000...</td>\n      <td>0xd78ad95fa46c994b6551d0da85fc275fe613ce37657f...</td>\n      <td>0x0c4496358f5e2da56462bdddc450c1b2754f6852</td>\n      <td>0</td>\n      <td>...</td>\n      <td>1.088466e+10</td>\n      <td>1.000000e+08</td>\n      <td>2</td>\n      <td>V2_SWAP_EXACT_IN</td>\n      <td>0x2b8DDAf520f38c23BB638766666c6f6952b2d064</td>\n      <td>0xC02aaA39b223FE8D0A0e5C4F27eAD9083C756Cc2</td>\n      <td>261937303117650344374</td>\n      <td>30273438111052900.0</td>\n      <td>NaN</td>\n      <td>NaN</td>\n    </tr>\n    <tr>\n      <th>3</th>\n      <td>239</td>\n      <td>0x6272d99f7278c79db9483ef4a6e1978a655bca2f3fa8...</td>\n      <td>96</td>\n      <td>0x27bf13cffca28a5c47c4ca753ac02ea72a431d123235...</td>\n      <td>18257034</td>\n      <td>0xddcc52a3318293dcb02bb631c1915e013c7dc34c</td>\n      <td>0x00000000000000000000000000000000000000000000...</td>\n      <td>0xd78ad95fa46c994b6551d0da85fc275fe613ce37657f...</td>\n      <td>0x0c4496358f5e2da56462bdddc450c1b2754f6852</td>\n      <td>0</td>\n      <td>...</td>\n      <td>1.088466e+10</td>\n      <td>1.000000e+08</td>\n      <td>2</td>\n      <td>V2_SWAP_EXACT_IN</td>\n      <td>0x2b8DDAf520f38c23BB638766666c6f6952b2d064</td>\n      <td>0xC02aaA39b223FE8D0A0e5C4F27eAD9083C756Cc2</td>\n      <td>261937303117650344374</td>\n      <td>30273438111052900.0</td>\n      <td>NaN</td>\n      <td>NaN</td>\n    </tr>\n    <tr>\n      <th>4</th>\n      <td>265</td>\n      <td>0x0ba3bfd593613e19c499b8ba9130ebc95e786d8fa5d6...</td>\n      <td>103</td>\n      <td>0x27bf13cffca28a5c47c4ca753ac02ea72a431d123235...</td>\n      <td>18257034</td>\n      <td>0x93ba064d66a92ccca2827f688be8f7b352539957</td>\n      <td>0x00000000000000000000000000000000000000000000...</td>\n      <td>0xd78ad95fa46c994b6551d0da85fc275fe613ce37657f...</td>\n      <td>0x6e132c4c256255174e6fcf72c549bc58d737da45</td>\n      <td>10000000000000000</td>\n      <td>...</td>\n      <td>1.160165e+10</td>\n      <td>1.000000e+08</td>\n      <td>2</td>\n      <td>V2_SWAP_EXACT_IN</td>\n      <td>0xC02aaA39b223FE8D0A0e5C4F27eAD9083C756Cc2</td>\n      <td>0xDFd540B8A14FaB2cf02a67fAcdc61B6eE5Fee577</td>\n      <td>10000000000000000</td>\n      <td>110501615614802257470151</td>\n      <td>NaN</td>\n      <td>NaN</td>\n    </tr>\n    <tr>\n      <th>5</th>\n      <td>324</td>\n      <td>0x174f29b21bf123c08b946d4d58634489880229bed28c...</td>\n      <td>128</td>\n      <td>0x27bf13cffca28a5c47c4ca753ac02ea72a431d123235...</td>\n      <td>18257034</td>\n      <td>0xcfc5aeac89e573b7b19c2bada006dac582b34ea1</td>\n      <td>0x00000000000000000000000000000000000000000000...</td>\n      <td>0xd78ad95fa46c994b6551d0da85fc275fe613ce37657f...</td>\n      <td>0x8915315d1bddbc3becac4fa70b17d4881d1761f8</td>\n      <td>0</td>\n      <td>...</td>\n      <td>1.024113e+10</td>\n      <td>1.000000e+07</td>\n      <td>2</td>\n      <td>V2_SWAP_EXACT_IN</td>\n      <td>0xAb320334950B365379bF6f505C7bc8763ce6641c</td>\n      <td>0xC02aaA39b223FE8D0A0e5C4F27eAD9083C756Cc2</td>\n      <td>145259625212904</td>\n      <td>28339416433012211</td>\n      <td>NaN</td>\n      <td>NaN</td>\n    </tr>\n    <tr>\n      <th>6</th>\n      <td>329</td>\n      <td>0x8a31eb27e80039aa6be10c2110d5293099856a02589d...</td>\n      <td>129</td>\n      <td>0x27bf13cffca28a5c47c4ca753ac02ea72a431d123235...</td>\n      <td>18257034</td>\n      <td>0x977c5fcf7a552d38adcde4f41025956855497c6d</td>\n      <td>0x00000000000000000000000000000000000000000000...</td>\n      <td>0xd78ad95fa46c994b6551d0da85fc275fe613ce37657f...</td>\n      <td>0x4e6755ace70972a78b1c173ac31c0cebac0eabb7</td>\n      <td>0</td>\n      <td>...</td>\n      <td>1.024113e+10</td>\n      <td>1.000000e+07</td>\n      <td>2</td>\n      <td>V2_SWAP_EXACT_OUT</td>\n      <td>0xC02aaA39b223FE8D0A0e5C4F27eAD9083C756Cc2</td>\n      <td>0xfF836A5821E69066c87E268bC51b849FaB94240C</td>\n      <td>NaN</td>\n      <td>NaN</td>\n      <td>1.796608e+16</td>\n      <td>500000000000000000000000</td>\n    </tr>\n    <tr>\n      <th>7</th>\n      <td>333</td>\n      <td>0x19e35cc0118c78c94f35ba460835457ec4f6a9be1025...</td>\n      <td>131</td>\n      <td>0x27bf13cffca28a5c47c4ca753ac02ea72a431d123235...</td>\n      <td>18257034</td>\n      <td>0x88395224c3709be9a700624bd9246459585c56b0</td>\n      <td>0x00000000000000000000000000000000000000000000...</td>\n      <td>0xc42079f94a6350d7e6235f29174924f928cc2ac818eb...</td>\n      <td>0x218e67ace2d1e5bec42721fa0f6b60aa2baf591a</td>\n      <td>50000000000000000</td>\n      <td>...</td>\n      <td>9.997601e+09</td>\n      <td>1.000000e+07</td>\n      <td>2</td>\n      <td>V3_SWAP_EXACT_IN</td>\n      <td>0xC02aaA39b223FE8D0A0e5C4F27eAD9083C756Cc2</td>\n      <td>0xe9B076B476D8865cDF79D1Cf7DF420EE397a7f75</td>\n      <td>50000000000000000</td>\n      <td>518613489213</td>\n      <td>NaN</td>\n      <td>NaN</td>\n    </tr>\n    <tr>\n      <th>8</th>\n      <td>80</td>\n      <td>0x0cac70512b57cc78b69e1f08f33c9d693489173fb5f8...</td>\n      <td>25</td>\n      <td>0x41fb348c5b21cd8915bd5a20b0b9f25c5380153f31b7...</td>\n      <td>18257035</td>\n      <td>0x4ea15a1e4f3955c798722e33031ef818284e1b03</td>\n      <td>0x00000000000000000000000000000000000000000000...</td>\n      <td>0xd78ad95fa46c994b6551d0da85fc275fe613ce37657f...</td>\n      <td>0xf01f3ad7e79cc0457e3d5b43c11fa19ebb941cee</td>\n      <td>10000000000000000</td>\n      <td>...</td>\n      <td>1.240889e+10</td>\n      <td>2.000000e+09</td>\n      <td>2</td>\n      <td>V2_SWAP_EXACT_IN</td>\n      <td>0xC02aaA39b223FE8D0A0e5C4F27eAD9083C756Cc2</td>\n      <td>0x244B36Af168cc3B3A24b1E6ADE3A90817cf07d22</td>\n      <td>10000000000000000</td>\n      <td>122054033700665812471</td>\n      <td>NaN</td>\n      <td>NaN</td>\n    </tr>\n    <tr>\n      <th>9</th>\n      <td>123</td>\n      <td>0x03eade469c79b660243b1962fe830e1530ebfa080797...</td>\n      <td>55</td>\n      <td>0x41fb348c5b21cd8915bd5a20b0b9f25c5380153f31b7...</td>\n      <td>18257035</td>\n      <td>0xc32c2d9768919deaee60f7eb163a293c6eb81be8</td>\n      <td>0x00000000000000000000000000000000000000000000...</td>\n      <td>0xd78ad95fa46c994b6551d0da85fc275fe613ce37657f...</td>\n      <td>0x77b9020da34704e0cd6bf7220d252cb15346b483</td>\n      <td>1000000000000000000</td>\n      <td>...</td>\n      <td>1.444910e+10</td>\n      <td>3.000000e+08</td>\n      <td>2</td>\n      <td>V2_SWAP_EXACT_IN</td>\n      <td>0xC02aaA39b223FE8D0A0e5C4F27eAD9083C756Cc2</td>\n      <td>0x356e17967206eFb413b60AB0Ba44E269063A26c9</td>\n      <td>1000000000000000000</td>\n      <td>80677403216917245</td>\n      <td>NaN</td>\n      <td>NaN</td>\n    </tr>\n  </tbody>\n</table>\n<p>10 rows × 23 columns</p>\n</div>"
     },
     "execution_count": 11,
     "metadata": {},
     "output_type": "execute_result"
    }
   ],
   "source": [
    "'''\n",
    "Decrypt transaction 'input' and retrieve amountIn, amountOutMin, path (convert if event == UNISWAP V3)\n",
    "'''\n",
    "\n",
    "def check_array_size(arr):\n",
    "    if len(arr) > 1:\n",
    "        raise ValueError(\"More than 1 swap event in single record\")\n",
    "\n",
    "# print(merged_df['event_src_addr'].value_counts())\n",
    "\n",
    "merged_df_sample = merged_df.head(10)\n",
    "\n",
    "CMD_V2_SWAP_EXACT_IN = 'V2_SWAP_EXACT_IN'\n",
    "CMD_V2_SWAP_EXACT_OUT = 'V2_SWAP_EXACT_OUT'\n",
    "CMD_V3_SWAP_EXACT_IN = 'V3_SWAP_EXACT_IN'\n",
    "CMD_V3_SWAP_EXACT_OUT = 'V3_SWAP_EXACT_OUT'\n",
    "\n",
    "FILTER_CMDS = (CMD_V2_SWAP_EXACT_IN, CMD_V2_SWAP_EXACT_OUT, CMD_V3_SWAP_EXACT_IN, CMD_V3_SWAP_EXACT_OUT)\n",
    "\n",
    "for index, row in merged_df_sample.iterrows():\n",
    "\n",
    "    decoded_trx_input = routerCodec.decode.function_input(row['input'])\n",
    "\n",
    "    filtered_data = [item for item in decoded_trx_input[1]['inputs'] if any(cmd_name in str(item[0]) for cmd_name in FILTER_CMDS)]\n",
    "\n",
    "    check_array_size(filtered_data)\n",
    "\n",
    "    function, params = filtered_data[0]\n",
    "    # print(\"--------\")\n",
    "    # print(row['transaction_hash'])\n",
    "    # print(decoded_trx_input)\n",
    "    # print(params['path'])\n",
    "\n",
    "    CMD_FUNCTION = str(function)\n",
    "\n",
    "    if CMD_V2_SWAP_EXACT_IN in CMD_FUNCTION:\n",
    "        merged_df_sample.loc[index, 'command_identifier'] = CMD_V2_SWAP_EXACT_IN\n",
    "        merged_df_sample.loc[index, 'token_address_in'] = params['path'][0]\n",
    "        merged_df_sample.loc[index, 'token_address_out'] = params['path'][1]\n",
    "        merged_df_sample.loc[index, 'swap_amount_in'] = params['amountIn']\n",
    "        merged_df_sample.loc[index, 'swap_amount_out_min'] = params['amountOutMin']\n",
    "    elif CMD_V2_SWAP_EXACT_OUT in CMD_FUNCTION:\n",
    "        merged_df_sample.loc[index, 'command_identifier'] = CMD_V2_SWAP_EXACT_OUT\n",
    "        merged_df_sample.loc[index, 'token_address_in'] = params['path'][0]\n",
    "        merged_df_sample.loc[index, 'token_address_out'] = params['path'][1]\n",
    "        merged_df_sample.loc[index, 'swap_amount_in_max'] = params['amountInMax']\n",
    "        merged_df_sample.loc[index, 'swap_amount_out'] = params['amountOut']\n",
    "    elif CMD_V3_SWAP_EXACT_IN in CMD_FUNCTION:\n",
    "        decoded_path = routerCodec.decode.v3_path(CMD_V3_SWAP_EXACT_IN, params['path'])\n",
    "        merged_df_sample.loc[index, 'command_identifier'] = CMD_V3_SWAP_EXACT_IN\n",
    "        merged_df_sample.loc[index, 'token_address_in'] = decoded_path[0]\n",
    "        merged_df_sample.loc[index, 'token_address_out'] = decoded_path[2]\n",
    "        merged_df_sample.loc[index, 'swap_amount_in'] = params['amountIn']\n",
    "        merged_df_sample.loc[index, 'swap_amount_out_min'] = params['amountOutMin']\n",
    "    elif CMD_V3_SWAP_EXACT_OUT in CMD_FUNCTION:\n",
    "        decoded_path = routerCodec.decode.v3_path(CMD_V3_SWAP_EXACT_OUT, params['path'])\n",
    "        merged_df_sample.loc[index, 'command_identifier'] = CMD_V3_SWAP_EXACT_OUT\n",
    "        merged_df_sample.loc[index, 'token_address_in'] = decoded_path[2]\n",
    "        merged_df_sample.loc[index, 'token_address_out'] = decoded_path[0]\n",
    "        merged_df_sample.loc[index, 'swap_amount_in_max'] = params['amountInMax']\n",
    "        merged_df_sample.loc[index, 'swap_amount_out'] = params['amountOut']\n",
    "\n",
    "\n",
    "merged_df_sample = merged_df_sample.drop(columns='input')\n",
    "merged_df_sample"
   ]
  },
  {
   "cell_type": "code",
   "execution_count": 288,
   "outputs": [
    {
     "data": {
      "text/plain": "   log_index                                   transaction_hash  \\\n0         86  0x53cf14b25c5d1316b53f4b8e73e32fcfb4232bd73c2b...   \n1        177  0xbbcddf18079d76b163f269c0853c2ff1dbac05e69b9d...   \n2        233  0x6272d99f7278c79db9483ef4a6e1978a655bca2f3fa8...   \n3        239  0x6272d99f7278c79db9483ef4a6e1978a655bca2f3fa8...   \n4        265  0x0ba3bfd593613e19c499b8ba9130ebc95e786d8fa5d6...   \n5        324  0x174f29b21bf123c08b946d4d58634489880229bed28c...   \n6        329  0x8a31eb27e80039aa6be10c2110d5293099856a02589d...   \n7        333  0x19e35cc0118c78c94f35ba460835457ec4f6a9be1025...   \n8         80  0x0cac70512b57cc78b69e1f08f33c9d693489173fb5f8...   \n9        123  0x03eade469c79b660243b1962fe830e1530ebfa080797...   \n\n   transaction_index                                         block_hash  \\\n0                 27  0x27bf13cffca28a5c47c4ca753ac02ea72a431d123235...   \n1                 75  0x27bf13cffca28a5c47c4ca753ac02ea72a431d123235...   \n2                 96  0x27bf13cffca28a5c47c4ca753ac02ea72a431d123235...   \n3                 96  0x27bf13cffca28a5c47c4ca753ac02ea72a431d123235...   \n4                103  0x27bf13cffca28a5c47c4ca753ac02ea72a431d123235...   \n5                128  0x27bf13cffca28a5c47c4ca753ac02ea72a431d123235...   \n6                129  0x27bf13cffca28a5c47c4ca753ac02ea72a431d123235...   \n7                131  0x27bf13cffca28a5c47c4ca753ac02ea72a431d123235...   \n8                 25  0x41fb348c5b21cd8915bd5a20b0b9f25c5380153f31b7...   \n9                 55  0x41fb348c5b21cd8915bd5a20b0b9f25c5380153f31b7...   \n\n   block_number                              event_src_addr  \\\n0      18257034  0xcfc5aeac89e573b7b19c2bada006dac582b34ea1   \n1      18257034  0x5f1002ae7ce00caca60abd017a5aaceb01f09349   \n2      18257034  0xddcc52a3318293dcb02bb631c1915e013c7dc34c   \n3      18257034  0xddcc52a3318293dcb02bb631c1915e013c7dc34c   \n4      18257034  0x93ba064d66a92ccca2827f688be8f7b352539957   \n5      18257034  0xcfc5aeac89e573b7b19c2bada006dac582b34ea1   \n6      18257034  0x977c5fcf7a552d38adcde4f41025956855497c6d   \n7      18257034  0x88395224c3709be9a700624bd9246459585c56b0   \n8      18257035  0x4ea15a1e4f3955c798722e33031ef818284e1b03   \n9      18257035  0xc32c2d9768919deaee60f7eb163a293c6eb81be8   \n\n                                                data  \\\n0  0x00000000000000000000000000000000000000000000...   \n1  0x00000000000000000000000000000000000000000000...   \n2  0x00000000000000000000000000000000000000000000...   \n3  0x00000000000000000000000000000000000000000000...   \n4  0x00000000000000000000000000000000000000000000...   \n5  0x00000000000000000000000000000000000000000000...   \n6  0x00000000000000000000000000000000000000000000...   \n7  0x00000000000000000000000000000000000000000000...   \n8  0x00000000000000000000000000000000000000000000...   \n9  0x00000000000000000000000000000000000000000000...   \n\n                                              topics  \\\n0  0xd78ad95fa46c994b6551d0da85fc275fe613ce37657f...   \n1  0xd78ad95fa46c994b6551d0da85fc275fe613ce37657f...   \n2  0xd78ad95fa46c994b6551d0da85fc275fe613ce37657f...   \n3  0xd78ad95fa46c994b6551d0da85fc275fe613ce37657f...   \n4  0xd78ad95fa46c994b6551d0da85fc275fe613ce37657f...   \n5  0xd78ad95fa46c994b6551d0da85fc275fe613ce37657f...   \n6  0xd78ad95fa46c994b6551d0da85fc275fe613ce37657f...   \n7  0xc42079f94a6350d7e6235f29174924f928cc2ac818eb...   \n8  0xd78ad95fa46c994b6551d0da85fc275fe613ce37657f...   \n9  0xd78ad95fa46c994b6551d0da85fc275fe613ce37657f...   \n\n                               sender_address                value  ...  \\\n0  0x6d580849c3b098aa559479cd68e4c86664fc5b77    30000000000000000  ...   \n1  0x29131059129132b59249848b4505ca4d907807c9                    0  ...   \n2  0x0c4496358f5e2da56462bdddc450c1b2754f6852                    0  ...   \n3  0x0c4496358f5e2da56462bdddc450c1b2754f6852                    0  ...   \n4  0x6e132c4c256255174e6fcf72c549bc58d737da45    10000000000000000  ...   \n5  0x8915315d1bddbc3becac4fa70b17d4881d1761f8                    0  ...   \n6  0x4e6755ace70972a78b1c173ac31c0cebac0eabb7                    0  ...   \n7  0x218e67ace2d1e5bec42721fa0f6b60aa2baf591a    50000000000000000  ...   \n8  0xf01f3ad7e79cc0457e3d5b43c11fa19ebb941cee    10000000000000000  ...   \n9  0x77b9020da34704e0cd6bf7220d252cb15346b483  1000000000000000000  ...   \n\n                             token_address_in  \\\n0  0xC02aaA39b223FE8D0A0e5C4F27eAD9083C756Cc2   \n1  0xc94862ed8F5f368252f12821b3DD28b00BCDf5a5   \n2  0x2b8DDAf520f38c23BB638766666c6f6952b2d064   \n3  0x2b8DDAf520f38c23BB638766666c6f6952b2d064   \n4  0xC02aaA39b223FE8D0A0e5C4F27eAD9083C756Cc2   \n5  0xAb320334950B365379bF6f505C7bc8763ce6641c   \n6  0xC02aaA39b223FE8D0A0e5C4F27eAD9083C756Cc2   \n7  0xC02aaA39b223FE8D0A0e5C4F27eAD9083C756Cc2   \n8  0xC02aaA39b223FE8D0A0e5C4F27eAD9083C756Cc2   \n9  0xC02aaA39b223FE8D0A0e5C4F27eAD9083C756Cc2   \n\n                            token_address_out         swap_amount_in  \\\n0  0xAb320334950B365379bF6f505C7bc8763ce6641c    30000000000000000.0   \n1  0xC02aaA39b223FE8D0A0e5C4F27eAD9083C756Cc2     2120777171806358.0   \n2  0xC02aaA39b223FE8D0A0e5C4F27eAD9083C756Cc2  261937303117650344374   \n3  0xC02aaA39b223FE8D0A0e5C4F27eAD9083C756Cc2  261937303117650344374   \n4  0xDFd540B8A14FaB2cf02a67fAcdc61B6eE5Fee577      10000000000000000   \n5  0xC02aaA39b223FE8D0A0e5C4F27eAD9083C756Cc2        145259625212904   \n6  0xfF836A5821E69066c87E268bC51b849FaB94240C                    NaN   \n7  0xe9B076B476D8865cDF79D1Cf7DF420EE397a7f75      50000000000000000   \n8  0x244B36Af168cc3B3A24b1E6ADE3A90817cf07d22      10000000000000000   \n9  0x356e17967206eFb413b60AB0Ba44E269063A26c9    1000000000000000000   \n\n        swap_amount_out_min  swap_amount_in_max           swap_amount_out  \\\n0         120600693930419.0                 NaN                       NaN   \n1      233517830261887072.0                 NaN                       NaN   \n2       30273438111052900.0                 NaN                       NaN   \n3       30273438111052900.0                 NaN                       NaN   \n4  110501615614802257470151                 NaN                       NaN   \n5         28339416433012211                 NaN                       NaN   \n6                       NaN        1.796608e+16  500000000000000000000000   \n7              518613489213                 NaN                       NaN   \n8     122054033700665812471                 NaN                       NaN   \n9         80677403216917245                 NaN                       NaN   \n\n        token_in_name token_in_symbol              token_out_name  \\\n0       Wrapped Ether            WETH          Pepe of Wallstreet   \n1              Sendor          SENDOR               Wrapped Ether   \n2             FriendX         FRIENDX               Wrapped Ether   \n3             FriendX         FRIENDX               Wrapped Ether   \n4       Wrapped Ether            WETH                   SerBridge   \n5  Pepe of Wallstreet             POW               Wrapped Ether   \n6       Wrapped Ether            WETH              Real Smurf Cat   \n7       Wrapped Ether            WETH                 Unification   \n8       Wrapped Ether            WETH                     Copybot   \n9       Wrapped Ether            WETH  Of Course I Still Love You   \n\n  token_out_symbol  \n0              POW  \n1             WETH  \n2             WETH  \n3             WETH  \n4             SBDG  \n5             WETH  \n6         шайлушай  \n7             FUND  \n8          COPYBOT  \n9           OCISLY  \n\n[10 rows x 27 columns]",
      "text/html": "<div>\n<style scoped>\n    .dataframe tbody tr th:only-of-type {\n        vertical-align: middle;\n    }\n\n    .dataframe tbody tr th {\n        vertical-align: top;\n    }\n\n    .dataframe thead th {\n        text-align: right;\n    }\n</style>\n<table border=\"1\" class=\"dataframe\">\n  <thead>\n    <tr style=\"text-align: right;\">\n      <th></th>\n      <th>log_index</th>\n      <th>transaction_hash</th>\n      <th>transaction_index</th>\n      <th>block_hash</th>\n      <th>block_number</th>\n      <th>event_src_addr</th>\n      <th>data</th>\n      <th>topics</th>\n      <th>sender_address</th>\n      <th>value</th>\n      <th>...</th>\n      <th>token_address_in</th>\n      <th>token_address_out</th>\n      <th>swap_amount_in</th>\n      <th>swap_amount_out_min</th>\n      <th>swap_amount_in_max</th>\n      <th>swap_amount_out</th>\n      <th>token_in_name</th>\n      <th>token_in_symbol</th>\n      <th>token_out_name</th>\n      <th>token_out_symbol</th>\n    </tr>\n  </thead>\n  <tbody>\n    <tr>\n      <th>0</th>\n      <td>86</td>\n      <td>0x53cf14b25c5d1316b53f4b8e73e32fcfb4232bd73c2b...</td>\n      <td>27</td>\n      <td>0x27bf13cffca28a5c47c4ca753ac02ea72a431d123235...</td>\n      <td>18257034</td>\n      <td>0xcfc5aeac89e573b7b19c2bada006dac582b34ea1</td>\n      <td>0x00000000000000000000000000000000000000000000...</td>\n      <td>0xd78ad95fa46c994b6551d0da85fc275fe613ce37657f...</td>\n      <td>0x6d580849c3b098aa559479cd68e4c86664fc5b77</td>\n      <td>30000000000000000</td>\n      <td>...</td>\n      <td>0xC02aaA39b223FE8D0A0e5C4F27eAD9083C756Cc2</td>\n      <td>0xAb320334950B365379bF6f505C7bc8763ce6641c</td>\n      <td>30000000000000000.0</td>\n      <td>120600693930419.0</td>\n      <td>NaN</td>\n      <td>NaN</td>\n      <td>Wrapped Ether</td>\n      <td>WETH</td>\n      <td>Pepe of Wallstreet</td>\n      <td>POW</td>\n    </tr>\n    <tr>\n      <th>1</th>\n      <td>177</td>\n      <td>0xbbcddf18079d76b163f269c0853c2ff1dbac05e69b9d...</td>\n      <td>75</td>\n      <td>0x27bf13cffca28a5c47c4ca753ac02ea72a431d123235...</td>\n      <td>18257034</td>\n      <td>0x5f1002ae7ce00caca60abd017a5aaceb01f09349</td>\n      <td>0x00000000000000000000000000000000000000000000...</td>\n      <td>0xd78ad95fa46c994b6551d0da85fc275fe613ce37657f...</td>\n      <td>0x29131059129132b59249848b4505ca4d907807c9</td>\n      <td>0</td>\n      <td>...</td>\n      <td>0xc94862ed8F5f368252f12821b3DD28b00BCDf5a5</td>\n      <td>0xC02aaA39b223FE8D0A0e5C4F27eAD9083C756Cc2</td>\n      <td>2120777171806358.0</td>\n      <td>233517830261887072.0</td>\n      <td>NaN</td>\n      <td>NaN</td>\n      <td>Sendor</td>\n      <td>SENDOR</td>\n      <td>Wrapped Ether</td>\n      <td>WETH</td>\n    </tr>\n    <tr>\n      <th>2</th>\n      <td>233</td>\n      <td>0x6272d99f7278c79db9483ef4a6e1978a655bca2f3fa8...</td>\n      <td>96</td>\n      <td>0x27bf13cffca28a5c47c4ca753ac02ea72a431d123235...</td>\n      <td>18257034</td>\n      <td>0xddcc52a3318293dcb02bb631c1915e013c7dc34c</td>\n      <td>0x00000000000000000000000000000000000000000000...</td>\n      <td>0xd78ad95fa46c994b6551d0da85fc275fe613ce37657f...</td>\n      <td>0x0c4496358f5e2da56462bdddc450c1b2754f6852</td>\n      <td>0</td>\n      <td>...</td>\n      <td>0x2b8DDAf520f38c23BB638766666c6f6952b2d064</td>\n      <td>0xC02aaA39b223FE8D0A0e5C4F27eAD9083C756Cc2</td>\n      <td>261937303117650344374</td>\n      <td>30273438111052900.0</td>\n      <td>NaN</td>\n      <td>NaN</td>\n      <td>FriendX</td>\n      <td>FRIENDX</td>\n      <td>Wrapped Ether</td>\n      <td>WETH</td>\n    </tr>\n    <tr>\n      <th>3</th>\n      <td>239</td>\n      <td>0x6272d99f7278c79db9483ef4a6e1978a655bca2f3fa8...</td>\n      <td>96</td>\n      <td>0x27bf13cffca28a5c47c4ca753ac02ea72a431d123235...</td>\n      <td>18257034</td>\n      <td>0xddcc52a3318293dcb02bb631c1915e013c7dc34c</td>\n      <td>0x00000000000000000000000000000000000000000000...</td>\n      <td>0xd78ad95fa46c994b6551d0da85fc275fe613ce37657f...</td>\n      <td>0x0c4496358f5e2da56462bdddc450c1b2754f6852</td>\n      <td>0</td>\n      <td>...</td>\n      <td>0x2b8DDAf520f38c23BB638766666c6f6952b2d064</td>\n      <td>0xC02aaA39b223FE8D0A0e5C4F27eAD9083C756Cc2</td>\n      <td>261937303117650344374</td>\n      <td>30273438111052900.0</td>\n      <td>NaN</td>\n      <td>NaN</td>\n      <td>FriendX</td>\n      <td>FRIENDX</td>\n      <td>Wrapped Ether</td>\n      <td>WETH</td>\n    </tr>\n    <tr>\n      <th>4</th>\n      <td>265</td>\n      <td>0x0ba3bfd593613e19c499b8ba9130ebc95e786d8fa5d6...</td>\n      <td>103</td>\n      <td>0x27bf13cffca28a5c47c4ca753ac02ea72a431d123235...</td>\n      <td>18257034</td>\n      <td>0x93ba064d66a92ccca2827f688be8f7b352539957</td>\n      <td>0x00000000000000000000000000000000000000000000...</td>\n      <td>0xd78ad95fa46c994b6551d0da85fc275fe613ce37657f...</td>\n      <td>0x6e132c4c256255174e6fcf72c549bc58d737da45</td>\n      <td>10000000000000000</td>\n      <td>...</td>\n      <td>0xC02aaA39b223FE8D0A0e5C4F27eAD9083C756Cc2</td>\n      <td>0xDFd540B8A14FaB2cf02a67fAcdc61B6eE5Fee577</td>\n      <td>10000000000000000</td>\n      <td>110501615614802257470151</td>\n      <td>NaN</td>\n      <td>NaN</td>\n      <td>Wrapped Ether</td>\n      <td>WETH</td>\n      <td>SerBridge</td>\n      <td>SBDG</td>\n    </tr>\n    <tr>\n      <th>5</th>\n      <td>324</td>\n      <td>0x174f29b21bf123c08b946d4d58634489880229bed28c...</td>\n      <td>128</td>\n      <td>0x27bf13cffca28a5c47c4ca753ac02ea72a431d123235...</td>\n      <td>18257034</td>\n      <td>0xcfc5aeac89e573b7b19c2bada006dac582b34ea1</td>\n      <td>0x00000000000000000000000000000000000000000000...</td>\n      <td>0xd78ad95fa46c994b6551d0da85fc275fe613ce37657f...</td>\n      <td>0x8915315d1bddbc3becac4fa70b17d4881d1761f8</td>\n      <td>0</td>\n      <td>...</td>\n      <td>0xAb320334950B365379bF6f505C7bc8763ce6641c</td>\n      <td>0xC02aaA39b223FE8D0A0e5C4F27eAD9083C756Cc2</td>\n      <td>145259625212904</td>\n      <td>28339416433012211</td>\n      <td>NaN</td>\n      <td>NaN</td>\n      <td>Pepe of Wallstreet</td>\n      <td>POW</td>\n      <td>Wrapped Ether</td>\n      <td>WETH</td>\n    </tr>\n    <tr>\n      <th>6</th>\n      <td>329</td>\n      <td>0x8a31eb27e80039aa6be10c2110d5293099856a02589d...</td>\n      <td>129</td>\n      <td>0x27bf13cffca28a5c47c4ca753ac02ea72a431d123235...</td>\n      <td>18257034</td>\n      <td>0x977c5fcf7a552d38adcde4f41025956855497c6d</td>\n      <td>0x00000000000000000000000000000000000000000000...</td>\n      <td>0xd78ad95fa46c994b6551d0da85fc275fe613ce37657f...</td>\n      <td>0x4e6755ace70972a78b1c173ac31c0cebac0eabb7</td>\n      <td>0</td>\n      <td>...</td>\n      <td>0xC02aaA39b223FE8D0A0e5C4F27eAD9083C756Cc2</td>\n      <td>0xfF836A5821E69066c87E268bC51b849FaB94240C</td>\n      <td>NaN</td>\n      <td>NaN</td>\n      <td>1.796608e+16</td>\n      <td>500000000000000000000000</td>\n      <td>Wrapped Ether</td>\n      <td>WETH</td>\n      <td>Real Smurf Cat</td>\n      <td>шайлушай</td>\n    </tr>\n    <tr>\n      <th>7</th>\n      <td>333</td>\n      <td>0x19e35cc0118c78c94f35ba460835457ec4f6a9be1025...</td>\n      <td>131</td>\n      <td>0x27bf13cffca28a5c47c4ca753ac02ea72a431d123235...</td>\n      <td>18257034</td>\n      <td>0x88395224c3709be9a700624bd9246459585c56b0</td>\n      <td>0x00000000000000000000000000000000000000000000...</td>\n      <td>0xc42079f94a6350d7e6235f29174924f928cc2ac818eb...</td>\n      <td>0x218e67ace2d1e5bec42721fa0f6b60aa2baf591a</td>\n      <td>50000000000000000</td>\n      <td>...</td>\n      <td>0xC02aaA39b223FE8D0A0e5C4F27eAD9083C756Cc2</td>\n      <td>0xe9B076B476D8865cDF79D1Cf7DF420EE397a7f75</td>\n      <td>50000000000000000</td>\n      <td>518613489213</td>\n      <td>NaN</td>\n      <td>NaN</td>\n      <td>Wrapped Ether</td>\n      <td>WETH</td>\n      <td>Unification</td>\n      <td>FUND</td>\n    </tr>\n    <tr>\n      <th>8</th>\n      <td>80</td>\n      <td>0x0cac70512b57cc78b69e1f08f33c9d693489173fb5f8...</td>\n      <td>25</td>\n      <td>0x41fb348c5b21cd8915bd5a20b0b9f25c5380153f31b7...</td>\n      <td>18257035</td>\n      <td>0x4ea15a1e4f3955c798722e33031ef818284e1b03</td>\n      <td>0x00000000000000000000000000000000000000000000...</td>\n      <td>0xd78ad95fa46c994b6551d0da85fc275fe613ce37657f...</td>\n      <td>0xf01f3ad7e79cc0457e3d5b43c11fa19ebb941cee</td>\n      <td>10000000000000000</td>\n      <td>...</td>\n      <td>0xC02aaA39b223FE8D0A0e5C4F27eAD9083C756Cc2</td>\n      <td>0x244B36Af168cc3B3A24b1E6ADE3A90817cf07d22</td>\n      <td>10000000000000000</td>\n      <td>122054033700665812471</td>\n      <td>NaN</td>\n      <td>NaN</td>\n      <td>Wrapped Ether</td>\n      <td>WETH</td>\n      <td>Copybot</td>\n      <td>COPYBOT</td>\n    </tr>\n    <tr>\n      <th>9</th>\n      <td>123</td>\n      <td>0x03eade469c79b660243b1962fe830e1530ebfa080797...</td>\n      <td>55</td>\n      <td>0x41fb348c5b21cd8915bd5a20b0b9f25c5380153f31b7...</td>\n      <td>18257035</td>\n      <td>0xc32c2d9768919deaee60f7eb163a293c6eb81be8</td>\n      <td>0x00000000000000000000000000000000000000000000...</td>\n      <td>0xd78ad95fa46c994b6551d0da85fc275fe613ce37657f...</td>\n      <td>0x77b9020da34704e0cd6bf7220d252cb15346b483</td>\n      <td>1000000000000000000</td>\n      <td>...</td>\n      <td>0xC02aaA39b223FE8D0A0e5C4F27eAD9083C756Cc2</td>\n      <td>0x356e17967206eFb413b60AB0Ba44E269063A26c9</td>\n      <td>1000000000000000000</td>\n      <td>80677403216917245</td>\n      <td>NaN</td>\n      <td>NaN</td>\n      <td>Wrapped Ether</td>\n      <td>WETH</td>\n      <td>Of Course I Still Love You</td>\n      <td>OCISLY</td>\n    </tr>\n  </tbody>\n</table>\n<p>10 rows × 27 columns</p>\n</div>"
     },
     "execution_count": 288,
     "metadata": {},
     "output_type": "execute_result"
    }
   ],
   "source": [
    "'''\n",
    "Retrieve token name and symbol from provided contract address\n",
    "\n",
    "This block is used for retrieving token IN and token OUT name/symbol.\n",
    "\n",
    "It requires API call to etherscan.io API, which is not free (free plan limit: 5 calls/sec)\n",
    "\n",
    "TODO 1 -> Consider if this operation is needed (time consuming + expensive API costs)\n",
    "\n",
    "TODO 2 -> Consider following solution: redis cache + postgreSQL + kafka (kafka for real-time backup and redis cache update)\n",
    "\n",
    "'''\n",
    "\n",
    "def get_contract_abi(contract_address, api_key) ->dict:\n",
    "    \"\"\"\n",
    "        Get contract ABI for provided contract\n",
    "    \"\"\"\n",
    "    etherscan_call = f\"https://api.etherscan.io/api?module=contract&action=getabi&address={contract_address}&apikey={api_key}\"\n",
    "    r = requests.get(url = etherscan_call)\n",
    "    contract_abi =  json.loads(json.loads(r.text)['result'])\n",
    "    return contract_abi\n",
    "\n",
    "for index, row in merged_df_sample.iterrows():\n",
    "    token_address_in = row['token_address_in']\n",
    "    token_address_in_abi = get_contract_abi(contract_address=token_address_in, api_key=ETHERSCAN_API_KEY)\n",
    "    token_address_out = row['token_address_out']\n",
    "    token_address_out_abi = get_contract_abi(contract_address=token_address_out, api_key=ETHERSCAN_API_KEY)\n",
    "\n",
    "    contract_from = web3.eth.contract(address=token_address_in, abi=token_address_in_abi)\n",
    "    contract_to = web3.eth.contract(address=token_address_out, abi=token_address_out_abi)\n",
    "\n",
    "    token_in_name = contract_from.functions.name().call()\n",
    "    token_in_symbol = contract_from.functions.symbol().call()\n",
    "\n",
    "    token_out_name = contract_to.functions.name().call()\n",
    "    token_out_symbol = contract_to.functions.symbol().call()\n",
    "\n",
    "    # print(f\"token IN: ({token_in_name}, {token_in_symbol})\")\n",
    "    # print(f\"token OUT: ({token_out_name}, {token_out_symbol})\")\n",
    "\n",
    "    merged_df_sample.loc[index, 'token_in_name'] = token_in_name\n",
    "    merged_df_sample.loc[index, 'token_in_symbol'] = token_in_symbol\n",
    "    merged_df_sample.loc[index, 'token_out_name'] = token_out_name\n",
    "    merged_df_sample.loc[index, 'token_out_symbol'] = token_out_symbol\n",
    "\n",
    "    # ((token_in_name, token_in_symbol),(token_out_name, token_out_symbol))\n",
    "\n",
    "merged_df_sample"
   ],
   "metadata": {
    "collapsed": false
   }
  },
  {
   "cell_type": "code",
   "execution_count": 294,
   "outputs": [
    {
     "data": {
      "text/plain": "   log_index                                   transaction_hash  \\\n0         86  0x53cf14b25c5d1316b53f4b8e73e32fcfb4232bd73c2b...   \n1        177  0xbbcddf18079d76b163f269c0853c2ff1dbac05e69b9d...   \n2        233  0x6272d99f7278c79db9483ef4a6e1978a655bca2f3fa8...   \n3        239  0x6272d99f7278c79db9483ef4a6e1978a655bca2f3fa8...   \n4        265  0x0ba3bfd593613e19c499b8ba9130ebc95e786d8fa5d6...   \n5        324  0x174f29b21bf123c08b946d4d58634489880229bed28c...   \n6        329  0x8a31eb27e80039aa6be10c2110d5293099856a02589d...   \n7        333  0x19e35cc0118c78c94f35ba460835457ec4f6a9be1025...   \n8         80  0x0cac70512b57cc78b69e1f08f33c9d693489173fb5f8...   \n9        123  0x03eade469c79b660243b1962fe830e1530ebfa080797...   \n\n   transaction_index                                         block_hash  \\\n0                 27  0x27bf13cffca28a5c47c4ca753ac02ea72a431d123235...   \n1                 75  0x27bf13cffca28a5c47c4ca753ac02ea72a431d123235...   \n2                 96  0x27bf13cffca28a5c47c4ca753ac02ea72a431d123235...   \n3                 96  0x27bf13cffca28a5c47c4ca753ac02ea72a431d123235...   \n4                103  0x27bf13cffca28a5c47c4ca753ac02ea72a431d123235...   \n5                128  0x27bf13cffca28a5c47c4ca753ac02ea72a431d123235...   \n6                129  0x27bf13cffca28a5c47c4ca753ac02ea72a431d123235...   \n7                131  0x27bf13cffca28a5c47c4ca753ac02ea72a431d123235...   \n8                 25  0x41fb348c5b21cd8915bd5a20b0b9f25c5380153f31b7...   \n9                 55  0x41fb348c5b21cd8915bd5a20b0b9f25c5380153f31b7...   \n\n   block_number                              event_src_addr  \\\n0      18257034  0xcfc5aeac89e573b7b19c2bada006dac582b34ea1   \n1      18257034  0x5f1002ae7ce00caca60abd017a5aaceb01f09349   \n2      18257034  0xddcc52a3318293dcb02bb631c1915e013c7dc34c   \n3      18257034  0xddcc52a3318293dcb02bb631c1915e013c7dc34c   \n4      18257034  0x93ba064d66a92ccca2827f688be8f7b352539957   \n5      18257034  0xcfc5aeac89e573b7b19c2bada006dac582b34ea1   \n6      18257034  0x977c5fcf7a552d38adcde4f41025956855497c6d   \n7      18257034  0x88395224c3709be9a700624bd9246459585c56b0   \n8      18257035  0x4ea15a1e4f3955c798722e33031ef818284e1b03   \n9      18257035  0xc32c2d9768919deaee60f7eb163a293c6eb81be8   \n\n                               sender_address                value     gas  \\\n0  0x6d580849c3b098aa559479cd68e4c86664fc5b77    30000000000000000  222069   \n1  0x29131059129132b59249848b4505ca4d907807c9                    0  252950   \n2  0x0c4496358f5e2da56462bdddc450c1b2754f6852                    0  489536   \n3  0x0c4496358f5e2da56462bdddc450c1b2754f6852                    0  489536   \n4  0x6e132c4c256255174e6fcf72c549bc58d737da45    10000000000000000  163526   \n5  0x8915315d1bddbc3becac4fa70b17d4881d1761f8                    0  275707   \n6  0x4e6755ace70972a78b1c173ac31c0cebac0eabb7                    0  150976   \n7  0x218e67ace2d1e5bec42721fa0f6b60aa2baf591a    50000000000000000  166431   \n8  0xf01f3ad7e79cc0457e3d5b43c11fa19ebb941cee    10000000000000000  258868   \n9  0x77b9020da34704e0cd6bf7220d252cb15346b483  1000000000000000000  225025   \n\n     gas_price  ...  token_out_symbol           v2_amount0In  v2_amount1In  \\\n0  10811754905  ...               POW                      0  3.000000e+16   \n1   9111754905  ...              WETH                      0  2.099569e+15   \n2   8911754905  ...              WETH  120218946367444723413  0.000000e+00   \n3   8911754905  ...              WETH  248840437961767827156  0.000000e+00   \n4   8911754905  ...              SBDG      10000000000000000  0.000000e+00   \n5   8821754905  ...              WETH        143807028960775  0.000000e+00   \n6   8821754905  ...          шайлушай      17110551725827927  0.000000e+00   \n7   8821754905  ...              FUND                    NaN           NaN   \n8  11087797373  ...           COPYBOT                      0  1.000000e+16   \n9   9387797373  ...            OCISLY                      0  1.000000e+18   \n\n           v2_amount0Out             v2_amount1Out    v3_amount0  \\\n0        142786387236868                         0           NaN   \n1     239893045456507365                         0           NaN   \n2                      0         15299531338126664           NaN   \n3                      0         31583332876089604           NaN   \n4                      0  111054123692876268757502           NaN   \n5                      0         32263163753107085           NaN   \n6                      0  500000000000000000172686           NaN   \n7                    NaN                       NaN  5.000000e+16   \n8  140146474806944067630                         0           NaN   \n9      81080790233001832                         0           NaN   \n\n     v3_amount1              v3_sqrtPriceX96  v3_liquidity   v3_tick  \n0           NaN                          NaN           NaN       NaN  \n1           NaN                          NaN           NaN       NaN  \n2           NaN                          NaN           NaN       NaN  \n3           NaN                          NaN           NaN       NaN  \n4           NaN                          NaN           NaN       NaN  \n5           NaN                          NaN           NaN       NaN  \n6           NaN                          NaN           NaN       NaN  \n7 -5.212066e+11  256955053069631085013386804  1.551847e+17 -114630.0  \n8           NaN                          NaN           NaN       NaN  \n9           NaN                          NaN           NaN       NaN  \n\n[10 rows x 34 columns]",
      "text/html": "<div>\n<style scoped>\n    .dataframe tbody tr th:only-of-type {\n        vertical-align: middle;\n    }\n\n    .dataframe tbody tr th {\n        vertical-align: top;\n    }\n\n    .dataframe thead th {\n        text-align: right;\n    }\n</style>\n<table border=\"1\" class=\"dataframe\">\n  <thead>\n    <tr style=\"text-align: right;\">\n      <th></th>\n      <th>log_index</th>\n      <th>transaction_hash</th>\n      <th>transaction_index</th>\n      <th>block_hash</th>\n      <th>block_number</th>\n      <th>event_src_addr</th>\n      <th>sender_address</th>\n      <th>value</th>\n      <th>gas</th>\n      <th>gas_price</th>\n      <th>...</th>\n      <th>token_out_symbol</th>\n      <th>v2_amount0In</th>\n      <th>v2_amount1In</th>\n      <th>v2_amount0Out</th>\n      <th>v2_amount1Out</th>\n      <th>v3_amount0</th>\n      <th>v3_amount1</th>\n      <th>v3_sqrtPriceX96</th>\n      <th>v3_liquidity</th>\n      <th>v3_tick</th>\n    </tr>\n  </thead>\n  <tbody>\n    <tr>\n      <th>0</th>\n      <td>86</td>\n      <td>0x53cf14b25c5d1316b53f4b8e73e32fcfb4232bd73c2b...</td>\n      <td>27</td>\n      <td>0x27bf13cffca28a5c47c4ca753ac02ea72a431d123235...</td>\n      <td>18257034</td>\n      <td>0xcfc5aeac89e573b7b19c2bada006dac582b34ea1</td>\n      <td>0x6d580849c3b098aa559479cd68e4c86664fc5b77</td>\n      <td>30000000000000000</td>\n      <td>222069</td>\n      <td>10811754905</td>\n      <td>...</td>\n      <td>POW</td>\n      <td>0</td>\n      <td>3.000000e+16</td>\n      <td>142786387236868</td>\n      <td>0</td>\n      <td>NaN</td>\n      <td>NaN</td>\n      <td>NaN</td>\n      <td>NaN</td>\n      <td>NaN</td>\n    </tr>\n    <tr>\n      <th>1</th>\n      <td>177</td>\n      <td>0xbbcddf18079d76b163f269c0853c2ff1dbac05e69b9d...</td>\n      <td>75</td>\n      <td>0x27bf13cffca28a5c47c4ca753ac02ea72a431d123235...</td>\n      <td>18257034</td>\n      <td>0x5f1002ae7ce00caca60abd017a5aaceb01f09349</td>\n      <td>0x29131059129132b59249848b4505ca4d907807c9</td>\n      <td>0</td>\n      <td>252950</td>\n      <td>9111754905</td>\n      <td>...</td>\n      <td>WETH</td>\n      <td>0</td>\n      <td>2.099569e+15</td>\n      <td>239893045456507365</td>\n      <td>0</td>\n      <td>NaN</td>\n      <td>NaN</td>\n      <td>NaN</td>\n      <td>NaN</td>\n      <td>NaN</td>\n    </tr>\n    <tr>\n      <th>2</th>\n      <td>233</td>\n      <td>0x6272d99f7278c79db9483ef4a6e1978a655bca2f3fa8...</td>\n      <td>96</td>\n      <td>0x27bf13cffca28a5c47c4ca753ac02ea72a431d123235...</td>\n      <td>18257034</td>\n      <td>0xddcc52a3318293dcb02bb631c1915e013c7dc34c</td>\n      <td>0x0c4496358f5e2da56462bdddc450c1b2754f6852</td>\n      <td>0</td>\n      <td>489536</td>\n      <td>8911754905</td>\n      <td>...</td>\n      <td>WETH</td>\n      <td>120218946367444723413</td>\n      <td>0.000000e+00</td>\n      <td>0</td>\n      <td>15299531338126664</td>\n      <td>NaN</td>\n      <td>NaN</td>\n      <td>NaN</td>\n      <td>NaN</td>\n      <td>NaN</td>\n    </tr>\n    <tr>\n      <th>3</th>\n      <td>239</td>\n      <td>0x6272d99f7278c79db9483ef4a6e1978a655bca2f3fa8...</td>\n      <td>96</td>\n      <td>0x27bf13cffca28a5c47c4ca753ac02ea72a431d123235...</td>\n      <td>18257034</td>\n      <td>0xddcc52a3318293dcb02bb631c1915e013c7dc34c</td>\n      <td>0x0c4496358f5e2da56462bdddc450c1b2754f6852</td>\n      <td>0</td>\n      <td>489536</td>\n      <td>8911754905</td>\n      <td>...</td>\n      <td>WETH</td>\n      <td>248840437961767827156</td>\n      <td>0.000000e+00</td>\n      <td>0</td>\n      <td>31583332876089604</td>\n      <td>NaN</td>\n      <td>NaN</td>\n      <td>NaN</td>\n      <td>NaN</td>\n      <td>NaN</td>\n    </tr>\n    <tr>\n      <th>4</th>\n      <td>265</td>\n      <td>0x0ba3bfd593613e19c499b8ba9130ebc95e786d8fa5d6...</td>\n      <td>103</td>\n      <td>0x27bf13cffca28a5c47c4ca753ac02ea72a431d123235...</td>\n      <td>18257034</td>\n      <td>0x93ba064d66a92ccca2827f688be8f7b352539957</td>\n      <td>0x6e132c4c256255174e6fcf72c549bc58d737da45</td>\n      <td>10000000000000000</td>\n      <td>163526</td>\n      <td>8911754905</td>\n      <td>...</td>\n      <td>SBDG</td>\n      <td>10000000000000000</td>\n      <td>0.000000e+00</td>\n      <td>0</td>\n      <td>111054123692876268757502</td>\n      <td>NaN</td>\n      <td>NaN</td>\n      <td>NaN</td>\n      <td>NaN</td>\n      <td>NaN</td>\n    </tr>\n    <tr>\n      <th>5</th>\n      <td>324</td>\n      <td>0x174f29b21bf123c08b946d4d58634489880229bed28c...</td>\n      <td>128</td>\n      <td>0x27bf13cffca28a5c47c4ca753ac02ea72a431d123235...</td>\n      <td>18257034</td>\n      <td>0xcfc5aeac89e573b7b19c2bada006dac582b34ea1</td>\n      <td>0x8915315d1bddbc3becac4fa70b17d4881d1761f8</td>\n      <td>0</td>\n      <td>275707</td>\n      <td>8821754905</td>\n      <td>...</td>\n      <td>WETH</td>\n      <td>143807028960775</td>\n      <td>0.000000e+00</td>\n      <td>0</td>\n      <td>32263163753107085</td>\n      <td>NaN</td>\n      <td>NaN</td>\n      <td>NaN</td>\n      <td>NaN</td>\n      <td>NaN</td>\n    </tr>\n    <tr>\n      <th>6</th>\n      <td>329</td>\n      <td>0x8a31eb27e80039aa6be10c2110d5293099856a02589d...</td>\n      <td>129</td>\n      <td>0x27bf13cffca28a5c47c4ca753ac02ea72a431d123235...</td>\n      <td>18257034</td>\n      <td>0x977c5fcf7a552d38adcde4f41025956855497c6d</td>\n      <td>0x4e6755ace70972a78b1c173ac31c0cebac0eabb7</td>\n      <td>0</td>\n      <td>150976</td>\n      <td>8821754905</td>\n      <td>...</td>\n      <td>шайлушай</td>\n      <td>17110551725827927</td>\n      <td>0.000000e+00</td>\n      <td>0</td>\n      <td>500000000000000000172686</td>\n      <td>NaN</td>\n      <td>NaN</td>\n      <td>NaN</td>\n      <td>NaN</td>\n      <td>NaN</td>\n    </tr>\n    <tr>\n      <th>7</th>\n      <td>333</td>\n      <td>0x19e35cc0118c78c94f35ba460835457ec4f6a9be1025...</td>\n      <td>131</td>\n      <td>0x27bf13cffca28a5c47c4ca753ac02ea72a431d123235...</td>\n      <td>18257034</td>\n      <td>0x88395224c3709be9a700624bd9246459585c56b0</td>\n      <td>0x218e67ace2d1e5bec42721fa0f6b60aa2baf591a</td>\n      <td>50000000000000000</td>\n      <td>166431</td>\n      <td>8821754905</td>\n      <td>...</td>\n      <td>FUND</td>\n      <td>NaN</td>\n      <td>NaN</td>\n      <td>NaN</td>\n      <td>NaN</td>\n      <td>5.000000e+16</td>\n      <td>-5.212066e+11</td>\n      <td>256955053069631085013386804</td>\n      <td>1.551847e+17</td>\n      <td>-114630.0</td>\n    </tr>\n    <tr>\n      <th>8</th>\n      <td>80</td>\n      <td>0x0cac70512b57cc78b69e1f08f33c9d693489173fb5f8...</td>\n      <td>25</td>\n      <td>0x41fb348c5b21cd8915bd5a20b0b9f25c5380153f31b7...</td>\n      <td>18257035</td>\n      <td>0x4ea15a1e4f3955c798722e33031ef818284e1b03</td>\n      <td>0xf01f3ad7e79cc0457e3d5b43c11fa19ebb941cee</td>\n      <td>10000000000000000</td>\n      <td>258868</td>\n      <td>11087797373</td>\n      <td>...</td>\n      <td>COPYBOT</td>\n      <td>0</td>\n      <td>1.000000e+16</td>\n      <td>140146474806944067630</td>\n      <td>0</td>\n      <td>NaN</td>\n      <td>NaN</td>\n      <td>NaN</td>\n      <td>NaN</td>\n      <td>NaN</td>\n    </tr>\n    <tr>\n      <th>9</th>\n      <td>123</td>\n      <td>0x03eade469c79b660243b1962fe830e1530ebfa080797...</td>\n      <td>55</td>\n      <td>0x41fb348c5b21cd8915bd5a20b0b9f25c5380153f31b7...</td>\n      <td>18257035</td>\n      <td>0xc32c2d9768919deaee60f7eb163a293c6eb81be8</td>\n      <td>0x77b9020da34704e0cd6bf7220d252cb15346b483</td>\n      <td>1000000000000000000</td>\n      <td>225025</td>\n      <td>9387797373</td>\n      <td>...</td>\n      <td>OCISLY</td>\n      <td>0</td>\n      <td>1.000000e+18</td>\n      <td>81080790233001832</td>\n      <td>0</td>\n      <td>NaN</td>\n      <td>NaN</td>\n      <td>NaN</td>\n      <td>NaN</td>\n      <td>NaN</td>\n    </tr>\n  </tbody>\n</table>\n<p>10 rows × 34 columns</p>\n</div>"
     },
     "execution_count": 294,
     "metadata": {},
     "output_type": "execute_result"
    }
   ],
   "source": [
    "'''\n",
    "Decrypt 'data' from event logs (fields depends if event == V2 or V3)\n",
    "\n",
    "TODO -> redis cache + postgreSQL + kafka (kafka for real-time backup and redis cache update) for ABI retrieving\n",
    "\n",
    "'''\n",
    "\n",
    "for index, row in merged_df_sample.iterrows():\n",
    "\n",
    "    address = web3.to_checksum_address(row['event_src_addr'])\n",
    "    address_abi=get_contract_abi(address, ETHERSCAN_API_KEY)\n",
    "\n",
    "    pool_contract = web3.eth.contract(address=address, abi=address_abi)\n",
    "\n",
    "    decoded_event = pool_contract.events.Swap().process_log({\n",
    "        'data': row['data'],\n",
    "        'topics': [HexBytes(topic) for topic in row['topics'].split(\",\")],\n",
    "        'logIndex': row['log_index'],\n",
    "        'transactionIndex': row['transaction_index'],\n",
    "        'transactionHash': row['transaction_hash'],\n",
    "        'address': row['event_src_addr'],\n",
    "        'blockHash': row['block_hash'],\n",
    "        'blockNumber': row['block_number']\n",
    "    })\n",
    "\n",
    "    cmd_identifier = row['command_identifier']\n",
    "\n",
    "    if cmd_identifier in (CMD_V2_SWAP_EXACT_IN, CMD_V2_SWAP_EXACT_OUT):\n",
    "        merged_df_sample.loc[index, 'v2_amount0In'] = decoded_event['args']['amount0In']\n",
    "        merged_df_sample.loc[index, 'v2_amount1In'] = decoded_event['args']['amount1In']\n",
    "        merged_df_sample.loc[index, 'v2_amount0Out'] = decoded_event['args']['amount0Out']\n",
    "        merged_df_sample.loc[index, 'v2_amount1Out'] = decoded_event['args']['amount1Out']\n",
    "    elif cmd_identifier in (CMD_V3_SWAP_EXACT_IN, CMD_V3_SWAP_EXACT_OUT):\n",
    "        merged_df_sample.loc[index, 'v3_amount0'] = decoded_event['args']['amount0']\n",
    "        merged_df_sample.loc[index, 'v3_amount1'] = decoded_event['args']['amount1']\n",
    "        merged_df_sample.loc[index, 'v3_sqrtPriceX96'] = decoded_event['args']['sqrtPriceX96']\n",
    "        merged_df_sample.loc[index, 'v3_liquidity'] = decoded_event['args']['liquidity']\n",
    "        merged_df_sample.loc[index, 'v3_tick'] = decoded_event['args']['tick']\n",
    "\n",
    "final_df = merged_df_sample.drop(columns=['data', 'topics'])\n",
    "final_df"
   ],
   "metadata": {
    "collapsed": false
   }
  },
  {
   "cell_type": "code",
   "execution_count": 292,
   "outputs": [],
   "source": [
    "'''\n",
    "Save data\n",
    "'''\n",
    "final_df.to_csv('ur_transactions.csv')"
   ],
   "metadata": {
    "collapsed": false
   }
  },
  {
   "cell_type": "code",
   "execution_count": 290,
   "outputs": [],
   "source": [],
   "metadata": {
    "collapsed": false
   }
  },
  {
   "cell_type": "code",
   "execution_count": 290,
   "outputs": [],
   "source": [],
   "metadata": {
    "collapsed": false
   }
  },
  {
   "cell_type": "code",
   "execution_count": 290,
   "outputs": [],
   "source": [],
   "metadata": {
    "collapsed": false
   }
  }
 ],
 "metadata": {
  "kernelspec": {
   "display_name": "Python 3",
   "language": "python",
   "name": "python3"
  },
  "language_info": {
   "codemirror_mode": {
    "name": "ipython",
    "version": 2
   },
   "file_extension": ".py",
   "mimetype": "text/x-python",
   "name": "python",
   "nbconvert_exporter": "python",
   "pygments_lexer": "ipython2",
   "version": "2.7.6"
  }
 },
 "nbformat": 4,
 "nbformat_minor": 0
}
